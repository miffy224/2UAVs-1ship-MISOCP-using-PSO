{
 "cells": [
  {
   "cell_type": "code",
   "execution_count": 1,
   "metadata": {},
   "outputs": [],
   "source": [
    "from gurobipy import *\n",
    "from math import * "
   ]
  },
  {
   "cell_type": "code",
   "execution_count": 2,
   "metadata": {},
   "outputs": [],
   "source": [
    "\"\"\"\n",
    "\n",
    "Chen, Y., Ren, S., Chen, Z., Chen, M., & Wu, H. (2020). \n",
    "Path planning for vehicle-borne system consisting of multi air–ground robots. \n",
    "Robotica, 38(3), 493-511.\n",
    "\n",
    "https://scihub.wikicn.top/https://www.cambridge.org/core/journals/robotica/article/path-planning-for-vehicleborne-system-consisting-of-multi-airground-robots/26916C91743D946D9A53DF40D1D54787\n",
    "\n",
    "https://drive.google.com/file/d/1PNCsK-GjcA4XNpoG85c6ynv7K_BhrVVW/view?usp=sharing\n",
    "\n",
    "\"\"\"\n",
    "n=8\n",
    "M=100000\n",
    "\n",
    "  \n",
    "q=((0,0),(0,40),(0,50),(20,45),(46,50),(50,48),(50,35),(30,5),(30,3),(30,5),(30,0));\n",
    "\n",
    "\"\"\"\n",
    "q=((0,0),(0,40),(0,50),(1,49),(46,50),(48,48),(46,46),(50,48),(50,35),(30,5),(30,0)\n",
    "   ,(50,50),(34,50),(34,9),(0,13),(25,25),(50,34),(34,22),(53,9),(30,13),(15,25)\n",
    "  ,(22,50),(4,50),(5,9),(6,13),(4,25),(8,34),(8,22),(32,9),(8,13),(30,25));\n",
    "\"\"\"\n",
    "\n",
    "qs=(0,0)\n",
    "qf=(50,0)\n",
    "Vc=18\n",
    "Vh=54\n",
    "th=1/3\n",
    "tr=1/6"
   ]
  },
  {
   "cell_type": "code",
   "execution_count": 3,
   "metadata": {},
   "outputs": [
    {
     "data": {
      "text/plain": [
       "50"
      ]
     },
     "execution_count": 3,
     "metadata": {},
     "output_type": "execute_result"
    }
   ],
   "source": [
    "qf[0]"
   ]
  },
  {
   "cell_type": "code",
   "execution_count": 4,
   "metadata": {},
   "outputs": [
    {
     "name": "stdout",
     "output_type": "stream",
     "text": [
      "Academic license - for non-commercial use only\n"
     ]
    }
   ],
   "source": [
    "# Create a new model\n",
    "m = Model(\"MISOCP_2019\")\n",
    "\n",
    "\n",
    "# Create variables\n",
    "\n",
    "\n",
    "tx = {};\n",
    "ty = {};\n",
    "lx = {};\n",
    "ly = {};\n",
    "\n",
    "alpha0 = {};\n",
    "\n",
    "g = {};\n",
    "f = {};\n",
    "s = {};\n",
    "d = {};\n",
    "\n",
    "\n",
    "\n",
    "\n",
    "#for SOCP\n",
    "Cx= {};\n",
    "Cy= {};\n",
    "C= {};\n",
    "\n",
    "\n",
    "\n",
    "\n",
    "Ts= m.addVar(lb=0,vtype = 'C',name='Ts');\n",
    "Tf= m.addVar(lb=0,vtype = 'C',name='Tf');\n",
    "\n",
    "for i in range(1, n+1):\n",
    "    \n",
    "    tx[i] = m.addVar(vtype = 'C',name='tx[%s]'%i);\n",
    "    ty[i] = m.addVar(vtype = 'C',name='ty[%s]'%i);\n",
    "    lx[i] = m.addVar(vtype = 'C',name='lx[%s]'%i);\n",
    "    ly[i] = m.addVar(vtype = 'C',name='ly[%s]'%i);\n",
    "    \n",
    "    \n",
    "    f[i] = m.addVar(lb=0,ub=th,vtype = 'C',name='f[%s]'%i);\n",
    "    s[i] = m.addVar(lb=0,vtype = 'C',name='s[%s]'%i);\n",
    "    \n",
    "    \n",
    "for i in range(1, n):\n",
    "    alpha0[i] = m.addVar(vtype = 'C',name='alpha0[%s]'%i);\n",
    "    d[i] = m.addVar(lb=0,vtype = 'C',name='d[%s]'%i);\n",
    "    g[i] = m.addVar(lb=0,vtype = 'B',name='g[%s]'%i);\n",
    "\n",
    "        \n",
    "# Integrate new variables\n",
    "\n",
    "m.update()"
   ]
  },
  {
   "cell_type": "code",
   "execution_count": 5,
   "metadata": {},
   "outputs": [
    {
     "data": {
      "text/plain": [
       "'\\n#test\\nm.addConstr( tx[1]  == 1.9470);\\nm.addConstr( tx[2]  == 6.5555);\\nm.addConstr( tx[3]  == 18.9357);\\nm.addConstr( tx[4]  == 34.8446);\\nm.addConstr( tx[5]  == 40.3953);\\nm.addConstr( tx[6]  == 42.1624);\\n#m.addConstr( tx[7]  == 41.4193);\\n#m.addConstr( tx[8]  == 34.5042);\\n\\nm.addConstr( ty[1]  == 40.1419);\\nm.addConstr( ty[2]  == 46.1412);\\nm.addConstr( ty[3]  == 46.3237);\\nm.addConstr( ty[4]  == 46.5194);\\nm.addConstr( ty[5]  == 46.0908);\\nm.addConstr( ty[6]  == 29.5769);\\n#m.addConstr( ty[7]  == 27.8529);\\n#m.addConstr( ty[8]  == 3.9712);\\n\\n \\n    \\nm.addConstr( g[1]  == 1);\\nm.addConstr( g[2]  == 1);\\nm.addConstr( g[3]  == 1);\\nm.addConstr( g[4]  == 0);\\nm.addConstr( g[5]  == 1);\\n#m.addConstr( g[6]  == 0);\\n#m.addConstr( g[7]  == 1);\\n'"
      ]
     },
     "execution_count": 5,
     "metadata": {},
     "output_type": "execute_result"
    }
   ],
   "source": [
    "# Add constraint: \n",
    "ctr=0;\n",
    "\n",
    "\n",
    "\n",
    "#C3\n",
    "        \n",
    "ctr=ctr+1;\n",
    "        \n",
    "Cx[ctr] = m.addVar(lb=-GRB.INFINITY,vtype = 'C',name='Cx.C3');\n",
    "Cy[ctr] = m.addVar(lb=-GRB.INFINITY,vtype = 'C',name='Cy.C3');\n",
    "C[ctr] = m.addVar(lb=0.0,vtype = 'C',name='C.C3');\n",
    "            \n",
    "m.addConstr( Cx[ctr]  == lx[n]-qf[0], 'C3cx.1'); \n",
    "m.addConstr( Cy[ctr]  == ly[n]-qf[1], 'C3cy.1');\n",
    "m.addQConstr( Cx[ctr]*Cx[ctr] + Cy[ctr]*Cy[ctr] <=  C[ctr]*C[ctr], 'C3c.2');\n",
    "m.addConstr( C[ctr]-(Vc*Tf)  == 0, 'C3c.3');\n",
    "        \n",
    "\n",
    "    \n",
    "#C4\n",
    "ctr=ctr+1;\n",
    "        \n",
    "Cx[ctr] = m.addVar(lb=-GRB.INFINITY,vtype = 'C',name='Cx.C4');\n",
    "Cy[ctr] = m.addVar(lb=-GRB.INFINITY,vtype = 'C',name='Cy.C4');\n",
    "C[ctr] = m.addVar(lb=0.0,vtype = 'C',name='C.C4');\n",
    "            \n",
    "m.addConstr( Cx[ctr]  == tx[1]-qs[0], 'C4cx.1'); \n",
    "m.addConstr( Cy[ctr]  == ty[1]-qs[1], 'C4cy.1');\n",
    "m.addQConstr( Cx[ctr]*Cx[ctr] + Cy[ctr]*Cy[ctr] <=  C[ctr]*C[ctr], 'C4c.2');\n",
    "m.addConstr( C[ctr]-(Vc*Ts)  == 0, 'C4c.3');\n",
    "\n",
    "\n",
    "\n",
    "\n",
    "\n",
    "\n",
    "#C19\n",
    "ctr=ctr+1;\n",
    "        \n",
    "Cx[ctr] = m.addVar(lb=-GRB.INFINITY,vtype = 'C',name='Cx.C19');\n",
    "Cy[ctr] = m.addVar(lb=-GRB.INFINITY,vtype = 'C',name='Cy.C19');\n",
    "C[ctr] = m.addVar(lb=0.0,vtype = 'C',name='C.C19');\n",
    "            \n",
    "m.addConstr( Cx[ctr]  == tx[1]-tx[2], 'C19cx.1'); \n",
    "m.addConstr( Cy[ctr]  == ty[1]-ty[2], 'C19cy.1');\n",
    "m.addQConstr( Cx[ctr]*Cx[ctr] + Cy[ctr]*Cy[ctr] <=  C[ctr]*C[ctr], 'C19c.2');\n",
    "m.addConstr( C[ctr]-(Vc*s[1])-M*g[1]  == 0, 'C19c.3');\n",
    "\n",
    "\n",
    "#C20\n",
    "ctr=ctr+1;\n",
    "        \n",
    "Cx[ctr] = m.addVar(lb=-GRB.INFINITY,vtype = 'C',name='Cx.C20');\n",
    "Cy[ctr] = m.addVar(lb=-GRB.INFINITY,vtype = 'C',name='Cy.C20');\n",
    "C[ctr] = m.addVar(lb=0.0,vtype = 'C',name='C.C20');\n",
    "            \n",
    "m.addConstr( Cx[ctr]  == tx[1]-lx[1], 'C20cx.1'); \n",
    "m.addConstr( Cy[ctr]  == ty[1]-ly[1], 'C20cy.1');\n",
    "m.addQConstr( Cx[ctr]*Cx[ctr] + Cy[ctr]*Cy[ctr] <=  C[ctr]*C[ctr], 'C20c.2');\n",
    "m.addConstr( C[ctr] -Vc*s[1] -M*(1-g[1])  == 0, 'C20c.3');\n",
    "\n",
    "\n",
    "#C21\n",
    "m.addConstr( -M*g[1]  <= f[1]-(s[1]+d[1]), 'C21cx.1'); \n",
    "m.addConstr( f[1]-(s[1]+d[1]) <= M*g[1], 'C21cx.2'); \n",
    "\n",
    "#C22\n",
    "m.addConstr( -M*(1-g[1])  <= f[1]-s[1], 'C22cx.1'); \n",
    "m.addConstr( f[1]-s[1]  <= M*(1-g[1]), 'C22cx.2'); \n",
    "\n",
    "\n",
    "\n",
    "#C23\n",
    "ctr=ctr+1;\n",
    "        \n",
    "Cx[ctr] = m.addVar(lb=-GRB.INFINITY,vtype = 'C',name='Cx.C23');\n",
    "Cy[ctr] = m.addVar(lb=-GRB.INFINITY,vtype = 'C',name='Cy.C23');\n",
    "C[ctr] = m.addVar(lb=0.0,vtype = 'C',name='C.C23');\n",
    "            \n",
    "m.addConstr( Cx[ctr]  == tx[n]-lx[n-1], 'C23cx.1'); \n",
    "m.addConstr( Cy[ctr]  == ty[n]-ly[n-1], 'C23cy.1');\n",
    "m.addQConstr( Cx[ctr]*Cx[ctr] + Cy[ctr]*Cy[ctr] <=  C[ctr]*C[ctr], 'C23c.2');\n",
    "m.addConstr( C[ctr] -Vc*s[n] -M*g[n-1]  == 0, 'C23c.3');\n",
    "\n",
    "\n",
    "#C24\n",
    "ctr=ctr+1;\n",
    "        \n",
    "Cx[ctr] = m.addVar(lb=-GRB.INFINITY,vtype = 'C',name='Cx.C24');\n",
    "Cy[ctr] = m.addVar(lb=-GRB.INFINITY,vtype = 'C',name='Cy.C24');\n",
    "C[ctr] = m.addVar(lb=0.0,vtype = 'C',name='C.C24');\n",
    "            \n",
    "m.addConstr( Cx[ctr]  == tx[n]-lx[n], 'C24cx.1'); \n",
    "m.addConstr( Cy[ctr]  == ty[n]-ly[n], 'C24cy.1');\n",
    "m.addQConstr( Cx[ctr]*Cx[ctr] + Cy[ctr]*Cy[ctr] <=  C[ctr]*C[ctr], 'C24c.2');\n",
    "m.addConstr( C[ctr] -Vc*s[n] -M*(1-g[n-1])  == 0, 'C24c.3');\n",
    "\n",
    "\n",
    "#C25\n",
    "m.addConstr( -M*g[n-1]  <= f[n]-(s[n]+d[n-1]), 'C25.1'); \n",
    "m.addConstr( f[n]-(s[n]+d[n-1])  <= M*g[n-1], 'C25.2'); \n",
    "\n",
    "\n",
    "#C26\n",
    "m.addConstr( -M*(1-g[n-1]) <= f[n]-s[n], 'C26.1'); \n",
    "m.addConstr( f[n]-s[n]  <= M*(1-g[n-1]), 'C26.2'); \n",
    "\n",
    "\n",
    "for i in range(1, n):\n",
    "    \n",
    "    #C1\n",
    "    m.addConstr( -M*g[i] <= alpha0[i]+d[i]  ,'C.1.1.[%s]'%i);\n",
    "    m.addConstr( alpha0[i]+d[i] <= M*g[i]  ,'C.1.2.[%s]'%i);\n",
    "    #C2\n",
    "    m.addConstr( -M*(1-g[i]) <= alpha0[i]-d[i]  ,'C.2.1.[%s]'%i);\n",
    "    m.addConstr( alpha0[i]-d[i] <= M*(1-g[i]) ,'C.2.2.[%s]'%i);\n",
    "    \n",
    "    \n",
    "    \n",
    "    #C6\n",
    "    ctr=ctr+1;\n",
    "        \n",
    "    Cx[ctr] = m.addVar(lb=-GRB.INFINITY,vtype = 'C',name='Cx.C6.[%s]'%i);\n",
    "    Cy[ctr] = m.addVar(lb=-GRB.INFINITY,vtype = 'C',name='Cy.C6.[%s]'%i);\n",
    "    C[ctr] = m.addVar(lb=0.0,vtype = 'C',name='C.C6.[%s]'%i);\n",
    "            \n",
    "    m.addConstr( Cx[ctr]  == tx[i+1]-lx[i], 'C6cx.1.[%s]'%i); \n",
    "    m.addConstr( Cy[ctr]  == ty[i+1]-ly[i], 'C6cy.1.[%s]'%i);\n",
    "    m.addQConstr( Cx[ctr]*Cx[ctr] + Cy[ctr]*Cy[ctr] <=  C[ctr]*C[ctr], 'C6c.2.[%s]'%i);\n",
    "    m.addConstr( C[ctr]-(Vc*d[i])  == 0, 'C6c.3.[%s]'%i);\n",
    "    \n",
    "    if i>1:\n",
    "        #C7\n",
    "        ctr=ctr+1;\n",
    "        \n",
    "        Cx[ctr] = m.addVar(lb=-GRB.INFINITY,vtype = 'C',name='Cx.C7.[%s]'%i);\n",
    "        Cy[ctr] = m.addVar(lb=-GRB.INFINITY,vtype = 'C',name='Cy.C7.[%s]'%i);\n",
    "        C[ctr] = m.addVar(lb=0.0,vtype = 'C',name='C.C7.[%s]'%i);\n",
    "            \n",
    "        m.addConstr( Cx[ctr]  == tx[i+1]-lx[i-1], 'C7cx.1.[%s]'%i); \n",
    "        m.addConstr( Cy[ctr]  == ty[i+1]-ly[i-1], 'C7cy.1.[%s]'%i);\n",
    "        m.addQConstr( Cx[ctr]*Cx[ctr] + Cy[ctr]*Cy[ctr] <=  C[ctr]*C[ctr], 'C7c.2.[%s]'%i);\n",
    "        m.addConstr( C[ctr]-(Vc*s[i])-M*g[i-1] - M*g[i] == 0, 'C7c.3.[%s]'%i);\n",
    "        \n",
    "        #C8\n",
    "        Cx[ctr] = m.addVar(lb=-GRB.INFINITY,vtype = 'C',name='Cx.C8.[%s]'%i);\n",
    "        Cy[ctr] = m.addVar(lb=-GRB.INFINITY,vtype = 'C',name='Cy.C8.[%s]'%i);\n",
    "        C[ctr] = m.addVar(lb=0.0,vtype = 'C',name='C.C8.[%s]'%i);\n",
    "            \n",
    "        m.addConstr( Cx[ctr]  == lx[i]-lx[i-1], 'C8cx.1.[%s]'%i); \n",
    "        m.addConstr( Cy[ctr]  == ly[i]-ly[i-1], 'C8cy.1.[%s]'%i);\n",
    "        m.addQConstr( Cx[ctr]*Cx[ctr] + Cy[ctr]*Cy[ctr] <=  C[ctr]*C[ctr], 'C8c.2.[%s]'%i);\n",
    "        m.addConstr( C[ctr]-(Vc*s[i])-M*g[i-1] - M*(1-g[i]) == 0, 'C8c.3.[%s]'%i);        \n",
    "    \n",
    "        #C9\n",
    "        Cx[ctr] = m.addVar(lb=-GRB.INFINITY,vtype = 'C',name='Cx.C9.[%s]'%i);\n",
    "        Cy[ctr] = m.addVar(lb=-GRB.INFINITY,vtype = 'C',name='Cy.C9.[%s]'%i);\n",
    "        C[ctr] = m.addVar(lb=0.0,vtype = 'C',name='C.C9.[%s]'%i);\n",
    "            \n",
    "        m.addConstr( Cx[ctr]  == tx[i]-tx[i+1], 'C9cx.1.[%s]'%i); \n",
    "        m.addConstr( Cy[ctr]  == ty[i]-ty[i+1], 'C9cy.1.[%s]'%i);\n",
    "        m.addQConstr( Cx[ctr]*Cx[ctr] + Cy[ctr]*Cy[ctr] <=  C[ctr]*C[ctr], 'C9c.2.[%s]'%i);\n",
    "        m.addConstr( C[ctr]-(Vc*s[i])-M*(1-g[i-1]) - M*g[i] == 0, 'C9c.3.[%s]'%i);   \n",
    "        \n",
    "        #C10\n",
    "        Cx[ctr] = m.addVar(lb=-GRB.INFINITY,vtype = 'C',name='Cx.C10.[%s]'%i);\n",
    "        Cy[ctr] = m.addVar(lb=-GRB.INFINITY,vtype = 'C',name='Cy.C10.[%s]'%i);\n",
    "        C[ctr] = m.addVar(lb=0.0,vtype = 'C',name='C.C10.[%s]'%i);\n",
    "            \n",
    "        m.addConstr( Cx[ctr]  == tx[i]-lx[i], 'C10cx.1.[%s]'%i); \n",
    "        m.addConstr( Cy[ctr]  == ty[i]-ly[i], 'C10cy.1.[%s]'%i);\n",
    "        m.addQConstr( Cx[ctr]*Cx[ctr] + Cy[ctr]*Cy[ctr] <=  C[ctr]*C[ctr], 'C10c.2.[%s]'%i);\n",
    "        m.addConstr( C[ctr]-(Vc*s[i])-M*(1-g[i-1]) - M*(1-g[i]) == 0, 'C10c.3.[%s]'%i);\n",
    "        \n",
    "        \n",
    "        \n",
    "        \n",
    "        \n",
    "        #C11\n",
    "        m.addConstr( -(M*g[i-1]+M*g[i])  <= f[i]-(s[i]+d[i-1]+d[i]), 'C11.1.[%s]'%i); \n",
    "        m.addConstr( f[i]-(s[i]+d[i-1]+d[i])  <= M*g[i-1]+M*g[i], 'C11.2.[%s]'%i); \n",
    "        \n",
    "        #C12\n",
    "        m.addConstr( -(M*g[i-1]+M*(1-g[i]))  <= f[i]-(s[i]+d[i-1]), 'C12.1.[%s]'%i); \n",
    "        m.addConstr( f[i]-(s[i]+d[i-1])  <= M*g[i-1]+M*(1-g[i]), 'C12.2.[%s]'%i); \n",
    "        \n",
    "        #C13\n",
    "        m.addConstr( -(M*(1-g[i-1])+M*g[i])  <= f[i]-(s[i]+d[i]), 'C13.1.[%s]'%i); \n",
    "        m.addConstr( f[i]-(s[i]+d[i-1])  <= M*(1-g[i-1])+M*g[i], 'C13.2.[%s]'%i); \n",
    "\n",
    "        \n",
    "        #C14\n",
    "        m.addConstr( -(M*(1-g[i-1])+M*(1-g[i]))  <= f[i]-s[i], 'C14.1.[%s]'%i); \n",
    "        m.addConstr( f[i]-s[i] <= M*(1-g[i-1])+M*(1-g[i]), 'C14.2.[%s]'%i); \n",
    "        \n",
    "        \n",
    "        \n",
    "        \n",
    "        #C15\n",
    "        m.addConstr( s[i]+M*g[i-1]+M*g[i]  >= tr, 'C15.[%s]'%i); \n",
    "        #C16\n",
    "        m.addConstr( s[i]+d[i]+M*g[i-1]+M*(1-g[i])  >= tr, 'C16.[%s]'%i); \n",
    "        #C17\n",
    "        m.addConstr( s[i]+d[i-1]+M*(1-g[i-1]) + M*g[i]  >= tr, 'C17.[%s]'%i); \n",
    "        #C18\n",
    "        m.addConstr( s[i]+d[i-1]+d[i]+M*(1-g[i-1]) + M*(1-g[i])  >= tr, 'C18.[%s]'%i); \n",
    "        \n",
    "        \n",
    "for i in range(1, n+1):\n",
    "    \n",
    "    #m.addConstr( f[i]  <= th, 'f[%s]'%i); \n",
    "  \n",
    "    #C5\n",
    "    ctr=ctr+1; \n",
    "    Cx[ctr] = m.addVar(lb=-GRB.INFINITY,vtype = 'C',name='Cx.C5.1.[%s]'%i);\n",
    "    Cy[ctr] = m.addVar(lb=-GRB.INFINITY,vtype = 'C',name='Cy.C5.1.[%s]'%i);\n",
    "    C[ctr] = m.addVar(lb=0.0,vtype = 'C',name='C.C5.1.[%s]'%i);\n",
    "\n",
    "    ctr=ctr+1; \n",
    "    Cx[ctr] = m.addVar(lb=-GRB.INFINITY,vtype = 'C',name='Cx.C5.2.[%s]'%i);\n",
    "    Cy[ctr] = m.addVar(lb=-GRB.INFINITY,vtype = 'C',name='Cy.C5.2.[%s]'%i);\n",
    "    C[ctr] = m.addVar(lb=0.0,ub=GRB.INFINITY,vtype = 'C',name='C.C5.2.[%s]'%i);\n",
    "    \n",
    "    m.addConstr( Cx[ctr-1]  == tx[i]-q[i][0], 'C5cx.1.1.[%s]'%i); \n",
    "    m.addConstr( Cy[ctr-1]  == ty[i]-q[i][1], 'C5cy.1.1.[%s]'%i);\n",
    "    m.addQConstr( Cx[ctr-1]*Cx[ctr-1] + Cy[ctr-1]*Cy[ctr-1] <=  C[ctr-1]*C[ctr-1], 'C5c.2.1.[%s]'%i);\n",
    "    \n",
    "    m.addConstr( Cx[ctr]  == lx[i]-q[i][0], 'C5cx.1.2.[%s]'%i); \n",
    "    m.addConstr( Cy[ctr]  == ly[i]-q[i][1], 'C5cy.1.2.[%s]'%i);\n",
    "    m.addQConstr( Cx[ctr]*Cx[ctr] + Cy[ctr]*Cy[ctr] <=  C[ctr]*C[ctr], 'C5c.2.2.[%s]'%i);\n",
    "    \n",
    "    m.addConstr( C[ctr]+C[ctr-1]-Vh*f[i]  == 0, 'C5c.3.[%s]'%i);\n",
    "    \n",
    "\n",
    "\"\"\"\n",
    "#test\n",
    "m.addConstr( tx[1]  == 1.9470);\n",
    "m.addConstr( tx[2]  == 6.5555);\n",
    "m.addConstr( tx[3]  == 18.9357);\n",
    "m.addConstr( tx[4]  == 34.8446);\n",
    "m.addConstr( tx[5]  == 40.3953);\n",
    "m.addConstr( tx[6]  == 42.1624);\n",
    "#m.addConstr( tx[7]  == 41.4193);\n",
    "#m.addConstr( tx[8]  == 34.5042);\n",
    "\n",
    "m.addConstr( ty[1]  == 40.1419);\n",
    "m.addConstr( ty[2]  == 46.1412);\n",
    "m.addConstr( ty[3]  == 46.3237);\n",
    "m.addConstr( ty[4]  == 46.5194);\n",
    "m.addConstr( ty[5]  == 46.0908);\n",
    "m.addConstr( ty[6]  == 29.5769);\n",
    "#m.addConstr( ty[7]  == 27.8529);\n",
    "#m.addConstr( ty[8]  == 3.9712);\n",
    "\n",
    " \n",
    "    \n",
    "m.addConstr( g[1]  == 1);\n",
    "m.addConstr( g[2]  == 1);\n",
    "m.addConstr( g[3]  == 1);\n",
    "m.addConstr( g[4]  == 0);\n",
    "m.addConstr( g[5]  == 1);\n",
    "#m.addConstr( g[6]  == 0);\n",
    "#m.addConstr( g[7]  == 1);\n",
    "\"\"\" \n",
    "\n",
    "    "
   ]
  },
  {
   "cell_type": "code",
   "execution_count": 6,
   "metadata": {},
   "outputs": [
    {
     "data": {
      "text/plain": [
       "'\\n####TEST\\n\\n\\nm.addConstr( d[1]  == 0.14792382510164787);\\nm.addConstr( d[2]  == 0.507437977500062);\\nm.addConstr( d[3]  == 0.8174544327166036);\\nm.addConstr( d[4]  == 0.0008975528898735991);\\nm.addConstr( d[5]  == 3.9907847274840134e-05);\\nm.addConstr( d[6]  == 1.3923848396214826);\\nm.addConstr( d[7]  == 0.17954001339395023);\\n\\n'"
      ]
     },
     "execution_count": 6,
     "metadata": {},
     "output_type": "execute_result"
    }
   ],
   "source": [
    "\"\"\"\n",
    "####TEST\n",
    "\n",
    "\n",
    "m.addConstr( d[1]  == 0.14792382510164787);\n",
    "m.addConstr( d[2]  == 0.507437977500062);\n",
    "m.addConstr( d[3]  == 0.8174544327166036);\n",
    "m.addConstr( d[4]  == 0.0008975528898735991);\n",
    "m.addConstr( d[5]  == 3.9907847274840134e-05);\n",
    "m.addConstr( d[6]  == 1.3923848396214826);\n",
    "m.addConstr( d[7]  == 0.17954001339395023);\n",
    "\n",
    "\"\"\""
   ]
  },
  {
   "cell_type": "code",
   "execution_count": 7,
   "metadata": {},
   "outputs": [],
   "source": [
    "###Objective Function\n",
    "\n",
    "tm = Ts+Tf+ quicksum(f[i] for i in range(1,n+1)) + quicksum(alpha0[i] for i in range(1,n))\n",
    "#Ts+Tf+ quicksum(f[i] for i in range(1,n+1)) + quicksum((2*g[i]-1)*d[i] for i in range(1,n)) \n",
    "#Ts+Tf+ quicksum(f[i] for i in range(1,n+1)) + quicksum(alpha0[i] for i in range(1,n))\n",
    "m.setObjective(tm,GRB.MINIMIZE)"
   ]
  },
  {
   "cell_type": "code",
   "execution_count": 8,
   "metadata": {},
   "outputs": [
    {
     "name": "stdout",
     "output_type": "stream",
     "text": [
      "Optimize a model with 259 rows, 230 columns and 880 nonzeros\n",
      "Model has 53 quadratic constraints\n",
      "Variable types: 223 continuous, 7 integer (7 binary)\n",
      "Coefficient statistics:\n",
      "  Matrix range     [1e+00, 1e+05]\n",
      "  QMatrix range    [1e+00, 1e+00]\n",
      "  Objective range  [1e+00, 1e+00]\n",
      "  Bounds range     [3e-01, 1e+00]\n",
      "  RHS range        [2e-01, 2e+05]\n",
      "Presolve removed 65 rows and 51 columns\n",
      "Presolve time: 0.01s\n",
      "Presolved: 194 rows, 179 columns, 720 nonzeros\n",
      "Variable types: 172 continuous, 7 integer (7 binary)\n",
      "\n",
      "Root relaxation: objective 0.000000e+00, 16 iterations, 0.00 seconds\n",
      "\n",
      "    Nodes    |    Current Node    |     Objective Bounds      |     Work\n",
      " Expl Unexpl |  Obj  Depth IntInf | Incumbent    BestBd   Gap | It/Node Time\n",
      "\n",
      "     0     0    2.08702    0    2          -    2.08702      -     -    0s\n",
      "     0     0    2.94803    0    2          -    2.94803      -     -    0s\n",
      "     0     0    3.00729    0    3          -    3.00729      -     -    0s\n",
      "     0     0    3.91286    0    3          -    3.91286      -     -    0s\n",
      "     0     0    3.93674    0    4          -    3.93674      -     -    0s\n",
      "     0     0    4.30457    0    4          -    4.30457      -     -    0s\n",
      "     0     0    4.30457    0    4          -    4.30457      -     -    0s\n",
      "     0     0    4.34754    0    4          -    4.34754      -     -    0s\n",
      "     0     0    4.35599    0    4          -    4.35599      -     -    0s\n",
      "     0     0    4.37616    0    4          -    4.37616      -     -    0s\n",
      "     0     0    4.37616    0    4          -    4.37616      -     -    0s\n",
      "H    0     0                       7.6451519    4.37616  42.8%     -    0s\n",
      "     0     2    4.37616    0    4    7.64515    4.37616  42.8%     -    0s\n",
      "H    3     6                       7.6451507    4.99303  34.7%  24.7    0s\n",
      "H   28    13                       7.6451070    4.99316  34.7%  31.5    0s\n",
      "*   28    13               6       7.6451070    4.99316  34.7%  33.7    0s\n",
      "H   47    12                       7.5522396    5.07366  32.8%  34.0    0s\n",
      "H  227     2                       7.5522012    7.52445  0.37%  34.4    0s\n",
      "*  227     2               6       7.5522012    7.52445  0.37%  34.4    0s\n",
      "H  331     6                       7.5522011    7.55094  0.02%  31.2    0s\n",
      "*  331     6               6       7.5522011    7.55094  0.02%  31.3    0s\n",
      "\n",
      "Cutting planes:\n",
      "  Gomory: 1\n",
      "  Implied bound: 5\n",
      "  MIR: 1\n",
      "  Flow cover: 5\n",
      "\n",
      "Explored 348 nodes (10933 simplex iterations) in 0.65 seconds\n",
      "Thread count was 4 (of 4 available processors)\n",
      "\n",
      "Solution count 6: 7.5522 7.5522 7.55224 ... 7.64515\n",
      "\n",
      "Optimal solution found (tolerance 1.00e-04)\n",
      "Best objective 7.552201116230e+00, best bound 7.551651485767e+00, gap 0.0073%\n"
     ]
    }
   ],
   "source": [
    "m.optimize()"
   ]
  },
  {
   "cell_type": "code",
   "execution_count": 9,
   "metadata": {
    "scrolled": true
   },
   "outputs": [
    {
     "name": "stdout",
     "output_type": "stream",
     "text": [
      "t_m: 7.552201116229876 hours\n",
      "\n",
      "runtime is 0.659682035446167 secs\n",
      "\n",
      "M: 100000 \n",
      "\n",
      "n: 8 \n",
      "-----\n",
      "g 1 : 1.0\n",
      "g 2 : 1.0\n",
      "g 3 : 1.0\n",
      "g 4 : 0.0\n",
      "g 5 : 0.0\n",
      "g 6 : 1.0\n",
      "g 7 : 0.0\n",
      "\n",
      "t 1  : ( 3.005028373372335 ,  35.57959534572718 )\n",
      "l 1  : ( 3.303516048104965 ,  39.11343385368994 )\n",
      "-----\n",
      "\n",
      "t 2  : ( 3.5235357739136646 ,  41.718411252938125 )\n",
      "l 2  : ( 7.945830597889107 ,  45.77344611835987 )\n",
      "-----\n",
      "\n",
      "t 3  : ( 17.82791743263626 ,  45.75055966890844 )\n",
      "l 3  : ( 22.10634576039681 ,  45.74062797326448 )\n",
      "-----\n",
      "\n",
      "t 4  : ( 35.33111882861523 ,  45.70994129687135 )\n",
      "l 4  : ( 41.30034424877422 ,  45.69603072332463 )\n",
      "-----\n",
      "\n",
      "t 5  : ( 41.300344248639675 ,  45.69603072329021 )\n",
      "l 5  : ( 44.68122529080434 ,  40.73925973860833 )\n",
      "-----\n",
      "\n",
      "t 6  : ( 44.68122529201126 ,  40.739259740254084 )\n",
      "l 6  : ( 42.644555490990534 ,  35.505095903903836 )\n",
      "-----\n",
      "\n",
      "t 7  : ( 33.707028097055634 ,  12.529771616711397 )\n",
      "l 7  : ( 32.070543579644855 ,  8.32257423289391 )\n",
      "-----\n",
      "\n",
      "t 8  : ( 32.07054358059597 ,  8.322574233726115 )\n",
      "l 8  : ( 42.15290719684493 ,  1.1770092427137202 )\n",
      "-----\n"
     ]
    }
   ],
   "source": [
    "obj = m.getObjective()\n",
    "print(\"t_m:\",obj.getValue(),\"hours\\n\")\n",
    "print ('runtime is',m.Runtime,\"secs\\n\")\n",
    "print(\"M:\",M,\"\\n\")\n",
    "print(\"n:\",n,\"\\n-----\")\n",
    "for i in range(1,n):\n",
    "    print(\"g\",i,\":\",abs(g[i].X))\n",
    "\n",
    "for i in range(1,n+1):\n",
    "    print(\"\\nt\", i,\" : (\",tx[i].X,\", \", ty[i].X,\")\")\n",
    "    print(\"l\", i,\" : (\",lx[i].X,\", \", ly[i].X,\")\\n-----\")\n",
    "    \n",
    "        \n"
   ]
  },
  {
   "cell_type": "code",
   "execution_count": 10,
   "metadata": {},
   "outputs": [],
   "source": [
    "import matplotlib.pyplot as plt\n",
    "plt.xlabel(\"x/km\")\n",
    "plt.ylabel(\"y/km\")\n",
    "\n",
    "plt.plot([tx[1].X, qs[0]],[ty[1].X,  qs[1]], color= 'b')\n",
    "plt.plot([lx[n].X, qf[0]],[ly[n].X,  qf[1]], color= 'b')\n",
    "\n",
    "for i in range(1,n):\n",
    "    if g[i].X==1:\n",
    "        plt.plot([tx[i].X, lx[i].X],[ty[i].X,  ly[i].X], color= 'b')\n",
    "        plt.plot([tx[i+1].X, lx[i].X],[ty[i+1].X,  ly[i].X], color= 'b')\n",
    "        \n",
    "    else:\n",
    "        plt.plot([tx[i].X, tx[i+1].X],[ty[i].X,  ty[i+1].X], color= 'b')\n",
    "        plt.plot([lx[i].X, tx[i+1].X],[ly[i].X,  ty[i+1].X], color= 'b')\n",
    "        plt.plot([lx[i].X, lx[i+1].X],[ly[i].X,  ly[i+1].X], color= 'b')\n",
    "        \n",
    "if g[7].X==1:\n",
    "    plt.plot([tx[8].X, lx[8].X],[ty[8].X,  ly[8].X], color= 'b')\n",
    "\n",
    "for i in range(1,n+1):\n",
    "    plt.plot([q[i][0] ,  lx[i].X] ,[q[i][1],  ly[i].X],linestyle= '--')\n",
    "    plt.plot([tx[i].X, q[i][0]],[ty[i].X,  q[i][1]],linestyle= '--')\n",
    "    plt.plot(q[i][0], q[i][1], marker='*',color='r')\n"
   ]
  },
  {
   "cell_type": "code",
   "execution_count": 11,
   "metadata": {},
   "outputs": [
    {
     "data": {
      "text/plain": [
       "<function matplotlib.pyplot.show(*args, **kw)>"
      ]
     },
     "execution_count": 11,
     "metadata": {},
     "output_type": "execute_result"
    }
   ],
   "source": [
    "plt.show"
   ]
  },
  {
   "cell_type": "code",
   "execution_count": null,
   "metadata": {},
   "outputs": [],
   "source": []
  },
  {
   "cell_type": "code",
   "execution_count": null,
   "metadata": {},
   "outputs": [],
   "source": []
  },
  {
   "cell_type": "code",
   "execution_count": null,
   "metadata": {},
   "outputs": [],
   "source": []
  },
  {
   "cell_type": "code",
   "execution_count": null,
   "metadata": {},
   "outputs": [],
   "source": []
  },
  {
   "cell_type": "markdown",
   "metadata": {},
   "source": [
    "# Debug"
   ]
  },
  {
   "cell_type": "markdown",
   "metadata": {},
   "source": [
    "# 測obj有沒有算錯：ＯＫ"
   ]
  },
  {
   "cell_type": "code",
   "execution_count": 12,
   "metadata": {},
   "outputs": [],
   "source": [
    "import numpy as np\n",
    "def distance(tx,ty ,lx,ly):\n",
    "    x_dist = (tx - lx)**2\n",
    "    y_dist = (ty - ly)**2\n",
    "    dist = np.sqrt(x_dist + y_dist )\n",
    "    return dist\n",
    "\n"
   ]
  },
  {
   "cell_type": "code",
   "execution_count": 13,
   "metadata": {},
   "outputs": [],
   "source": [
    "Tf=distance(qf[0],qf[1] ,lx[n].X,  ly[n].X)"
   ]
  },
  {
   "cell_type": "code",
   "execution_count": 14,
   "metadata": {},
   "outputs": [],
   "source": [
    "Ts=distance(qs[0],qs[1] ,tx[1].X,  ty[1].X)"
   ]
  },
  {
   "cell_type": "code",
   "execution_count": 15,
   "metadata": {},
   "outputs": [],
   "source": [
    "#quicksum(f[i] for i in range(1,n+1)) + quicksum((2*g[i]-1)*d[i] for i in range(1,n)) "
   ]
  },
  {
   "cell_type": "code",
   "execution_count": 16,
   "metadata": {},
   "outputs": [],
   "source": [
    "ff=sum(f[i].X for i in range(1,n+1)) "
   ]
  },
  {
   "cell_type": "code",
   "execution_count": 17,
   "metadata": {},
   "outputs": [
    {
     "data": {
      "text/plain": [
       "2.3291565388175686"
      ]
     },
     "execution_count": 17,
     "metadata": {},
     "output_type": "execute_result"
    }
   ],
   "source": [
    "ff"
   ]
  },
  {
   "cell_type": "code",
   "execution_count": 18,
   "metadata": {},
   "outputs": [
    {
     "data": {
      "text/plain": [
       "{1: <gurobi.Var f[1] (value 0.1970234492320267)>,\n",
       " 2: <gurobi.Var f[2] (value 0.33333333259322007)>,\n",
       " 3: <gurobi.Var f[3] (value 0.23769110488241993)>,\n",
       " 4: <gurobi.Var f[4] (value 0.3316245414046514)>,\n",
       " 5: <gurobi.Var f[5] (value 0.33333333273051735)>,\n",
       " 6: <gurobi.Var f[6] (value 0.3120249228729647)>,\n",
       " 7: <gurobi.Var f[7] (value 0.25079252321166995)>,\n",
       " 8: <gurobi.Var f[8] (value 0.3333333318900984)>}"
      ]
     },
     "execution_count": 18,
     "metadata": {},
     "output_type": "execute_result"
    }
   ],
   "source": [
    "f"
   ]
  },
  {
   "cell_type": "code",
   "execution_count": 19,
   "metadata": {},
   "outputs": [],
   "source": [
    "dd=sum((2*g[i].X-1)*d[i].X for i in range(1,n)) "
   ]
  },
  {
   "cell_type": "code",
   "execution_count": 20,
   "metadata": {},
   "outputs": [
    {
     "data": {
      "text/plain": [
       "2.798536540109327"
      ]
     },
     "execution_count": 20,
     "metadata": {},
     "output_type": "execute_result"
    }
   ],
   "source": [
    "dd"
   ]
  },
  {
   "cell_type": "code",
   "execution_count": 21,
   "metadata": {},
   "outputs": [
    {
     "data": {
      "text/plain": [
       "{1: <gurobi.Var d[1] (value 0.14523624888239953)>,\n",
       " 2: <gurobi.Var d[2] (value 0.5490062989249231)>,\n",
       " 3: <gurobi.Var d[3] (value 0.734711593804453)>,\n",
       " 4: <gurobi.Var d[4] (value 0.0)>,\n",
       " 5: <gurobi.Var d[5] (value 0.0)>,\n",
       " 6: <gurobi.Var d[6] (value 1.3695823984975513)>,\n",
       " 7: <gurobi.Var d[7] (value 0.0)>}"
      ]
     },
     "execution_count": 21,
     "metadata": {},
     "output_type": "execute_result"
    }
   ],
   "source": [
    "d"
   ]
  },
  {
   "cell_type": "code",
   "execution_count": 22,
   "metadata": {},
   "outputs": [],
   "source": [
    "nw=(Tf+Ts)/18+ff+dd"
   ]
  },
  {
   "cell_type": "code",
   "execution_count": 23,
   "metadata": {},
   "outputs": [
    {
     "data": {
      "text/plain": [
       "7.5522011115085625"
      ]
     },
     "execution_count": 23,
     "metadata": {},
     "output_type": "execute_result"
    }
   ],
   "source": [
    "nw"
   ]
  },
  {
   "cell_type": "code",
   "execution_count": null,
   "metadata": {},
   "outputs": [],
   "source": []
  },
  {
   "cell_type": "code",
   "execution_count": null,
   "metadata": {},
   "outputs": [],
   "source": []
  },
  {
   "cell_type": "code",
   "execution_count": null,
   "metadata": {},
   "outputs": [],
   "source": []
  },
  {
   "cell_type": "markdown",
   "metadata": {},
   "source": [
    "# 從example 反推"
   ]
  },
  {
   "cell_type": "code",
   "execution_count": 24,
   "metadata": {},
   "outputs": [],
   "source": [
    "t1= [1.9470, 40.1419] \n",
    "t2= [6.5555, 46.1412]\n",
    "t3 =[18.9357, 46.3237] \n",
    "t4 =[34.8446, 46.5194] \n",
    "t5= [40.3953, 46.0908] \n",
    "t6= [42.1624, 29.5769]\n",
    "t7= [41.4193, 27.8529] \n",
    "t8= [34.5042, 3.9712] "
   ]
  },
  {
   "cell_type": "code",
   "execution_count": null,
   "metadata": {},
   "outputs": [],
   "source": []
  },
  {
   "cell_type": "code",
   "execution_count": 25,
   "metadata": {},
   "outputs": [],
   "source": [
    "l1=[5.3892, 44.6192]\n",
    "l2= [12.4185, 46.3862]\n",
    "l3= [23.5811, 46.4110]\n",
    "l4= [40.7540, 46.0138]\n",
    "l5=[43.0816, 40.9320]\n",
    "l6=[40.4919, 23.8602]\n",
    "l7=[35.2296, 9.9634]\n",
    "l8= [38.2622, 1.0366]"
   ]
  },
  {
   "cell_type": "code",
   "execution_count": 26,
   "metadata": {},
   "outputs": [],
   "source": [
    "Ts=distance(qs[0],qs[1] ,t1[0],  t1[1])/18"
   ]
  },
  {
   "cell_type": "code",
   "execution_count": 27,
   "metadata": {},
   "outputs": [],
   "source": [
    "Tf=distance(qf[0],qf[1] ,l8[0],  l8[1])/18"
   ]
  },
  {
   "cell_type": "code",
   "execution_count": 28,
   "metadata": {},
   "outputs": [],
   "source": [
    "f_ex= (distance(q[1][0],q[1][1] ,t1[0],  t1[1])+distance(q[1][0],q[1][1] ,l1[0],  l1[1])+\n",
    "     distance(q[2][0],q[2][1] ,t2[0],  t2[1])+distance(q[2][0],q[2][1] ,l2[0],  l2[1]) +\n",
    "    distance(q[3][0],q[3][1] ,t3[0],  t3[1])+distance(q[3][0],q[3][1] ,l3[0],  l3[1]) +\n",
    "    distance(q[4][0],q[4][1] ,t4[0],  t4[1])+distance(q[4][0],q[4][1] ,l4[0],  l4[1])+\n",
    "    distance(q[5][0],q[5][1] ,t5[0],  t5[1])+distance(q[5][0],q[5][1] ,l5[0],  l5[1])+\n",
    "    distance(q[6][0],q[6][1] ,t6[0],  t6[1])+distance(q[6][0],q[6][1] ,l6[0],  l6[1])+\n",
    "    distance(q[7][0],q[7][1] ,t7[0],  t7[1])+distance(q[7][0],q[7][1] ,l7[0],  l7[1])+\n",
    "    distance(q[8][0],q[8][1] ,t8[0],  t8[1])+distance(q[8][0],q[8][1] ,l8[0],  l8[1]))/54"
   ]
  },
  {
   "cell_type": "code",
   "execution_count": 29,
   "metadata": {},
   "outputs": [],
   "source": [
    "d_ex= (\n",
    "     distance(l1[0],l1[1] ,t2[0],  t2[1])+\n",
    "    distance(t3[0],  t3[1] ,l2[0],  l2[1]) +\n",
    "    distance(t4[0],  t4[1] ,l3[0],  l3[1]) -\n",
    "    distance(t5[0],  t5[1] ,l4[0],  l4[1])+\n",
    "    distance(t6[0],  t6[1] ,l5[0],  l5[1])-\n",
    "    distance(t7[0],  t7[1] ,l6[0],  l6[1])+\n",
    "    distance(t8[0],  t8[1] ,l7[0],  l7[1])\n",
    ")/18"
   ]
  },
  {
   "cell_type": "code",
   "execution_count": 30,
   "metadata": {},
   "outputs": [
    {
     "data": {
      "text/plain": [
       "1.8145185389072322"
      ]
     },
     "execution_count": 30,
     "metadata": {},
     "output_type": "execute_result"
    }
   ],
   "source": [
    "d_ex"
   ]
  },
  {
   "cell_type": "code",
   "execution_count": 31,
   "metadata": {},
   "outputs": [
    {
     "data": {
      "text/plain": [
       "7.352429336133469"
      ]
     },
     "execution_count": 31,
     "metadata": {},
     "output_type": "execute_result"
    }
   ],
   "source": [
    "Ts+Tf+f_ex+d_ex"
   ]
  },
  {
   "cell_type": "markdown",
   "metadata": {},
   "source": [
    "# 例子最佳解＝7.352429336133469"
   ]
  },
  {
   "cell_type": "code",
   "execution_count": null,
   "metadata": {},
   "outputs": [],
   "source": []
  },
  {
   "cell_type": "markdown",
   "metadata": {},
   "source": [
    "# paper上的例子檢驗：f"
   ]
  },
  {
   "cell_type": "code",
   "execution_count": 32,
   "metadata": {},
   "outputs": [
    {
     "data": {
      "text/plain": [
       "0.3803801070416518"
      ]
     },
     "execution_count": 32,
     "metadata": {},
     "output_type": "execute_result"
    }
   ],
   "source": [
    "(distance(q[2][0],q[2][1] ,t2[0],  t2[1])+distance(q[2][0],q[2][1] ,l2[0],  l2[1]))/54"
   ]
  },
  {
   "cell_type": "code",
   "execution_count": 33,
   "metadata": {},
   "outputs": [
    {
     "data": {
      "text/plain": [
       "0.3384154235260911"
      ]
     },
     "execution_count": 33,
     "metadata": {},
     "output_type": "execute_result"
    }
   ],
   "source": [
    "(distance(q[4][0],q[4][1] ,t4[0],  t4[1])+distance(q[4][0],q[4][1] ,l4[0],  l4[1]))/54"
   ]
  },
  {
   "cell_type": "code",
   "execution_count": 34,
   "metadata": {},
   "outputs": [
    {
     "data": {
      "text/plain": [
       "19.683058909840987"
      ]
     },
     "execution_count": 34,
     "metadata": {},
     "output_type": "execute_result"
    }
   ],
   "source": [
    "(distance(q[5][0],q[5][1] ,t5[0],  t5[1])+distance(q[5][0],q[5][1] ,l5[0],  l5[1]))"
   ]
  },
  {
   "cell_type": "code",
   "execution_count": 35,
   "metadata": {},
   "outputs": [
    {
     "data": {
      "text/plain": [
       "0.44771638114501494"
      ]
     },
     "execution_count": 35,
     "metadata": {},
     "output_type": "execute_result"
    }
   ],
   "source": [
    "(distance(q[6][0],q[6][1] ,t6[0],  t6[1])+distance(q[6][0],q[6][1] ,l6[0],  l6[1]))/54"
   ]
  },
  {
   "cell_type": "code",
   "execution_count": 36,
   "metadata": {},
   "outputs": [
    {
     "data": {
      "text/plain": [
       "0.6066133165555802"
      ]
     },
     "execution_count": 36,
     "metadata": {},
     "output_type": "execute_result"
    }
   ],
   "source": [
    "(distance(q[7][0],q[7][1] ,t7[0],  t7[1])+distance(q[7][0],q[7][1] ,l7[0],  l7[1]))/54"
   ]
  },
  {
   "cell_type": "code",
   "execution_count": 37,
   "metadata": {},
   "outputs": [
    {
     "data": {
      "text/plain": [
       "13.100000088088585"
      ]
     },
     "execution_count": 37,
     "metadata": {},
     "output_type": "execute_result"
    }
   ],
   "source": [
    "distance(q[8][0],q[8][1] ,t8[0],  t8[1])+distance(q[8][0],q[8][1] ,l8[0],  l8[1])"
   ]
  },
  {
   "cell_type": "code",
   "execution_count": 38,
   "metadata": {},
   "outputs": [
    {
     "data": {
      "text/plain": [
       "(0, 50)"
      ]
     },
     "execution_count": 38,
     "metadata": {},
     "output_type": "execute_result"
    }
   ],
   "source": [
    "q[2]"
   ]
  },
  {
   "cell_type": "code",
   "execution_count": 39,
   "metadata": {},
   "outputs": [
    {
     "data": {
      "text/plain": [
       "[6.5555, 46.1412]"
      ]
     },
     "execution_count": 39,
     "metadata": {},
     "output_type": "execute_result"
    }
   ],
   "source": [
    "t2"
   ]
  },
  {
   "cell_type": "code",
   "execution_count": null,
   "metadata": {},
   "outputs": [],
   "source": []
  },
  {
   "cell_type": "code",
   "execution_count": null,
   "metadata": {},
   "outputs": [],
   "source": []
  },
  {
   "cell_type": "code",
   "execution_count": null,
   "metadata": {},
   "outputs": [],
   "source": []
  },
  {
   "cell_type": "code",
   "execution_count": 40,
   "metadata": {},
   "outputs": [],
   "source": [
    "#m.computeIIS()"
   ]
  },
  {
   "cell_type": "code",
   "execution_count": 41,
   "metadata": {
    "scrolled": true
   },
   "outputs": [
    {
     "name": "stdout",
     "output_type": "stream",
     "text": [
      "Ts 1.98368\n",
      "Tf 0.440826\n",
      "tx[1] 3.00503\n",
      "ty[1] 35.5796\n",
      "lx[1] 3.30352\n",
      "ly[1] 39.1134\n",
      "f[1] 0.197023\n",
      "s[1] 0.197023\n",
      "tx[2] 3.52354\n",
      "ty[2] 41.7184\n",
      "lx[2] 7.94583\n",
      "ly[2] 45.7734\n",
      "f[2] 0.333333\n",
      "s[2] 0.333333\n",
      "tx[3] 17.8279\n",
      "ty[3] 45.7506\n",
      "lx[3] 22.1063\n",
      "ly[3] 45.7406\n",
      "f[3] 0.237691\n",
      "s[3] 0.237691\n",
      "tx[4] 35.3311\n",
      "ty[4] 45.7099\n",
      "lx[4] 41.3003\n",
      "ly[4] 45.696\n",
      "f[4] 0.331625\n",
      "s[4] 0.331625\n",
      "tx[5] 41.3003\n",
      "ty[5] 45.696\n",
      "lx[5] 44.6812\n",
      "ly[5] 40.7393\n",
      "f[5] 0.333333\n",
      "s[5] 0.333333\n",
      "tx[6] 44.6812\n",
      "ty[6] 40.7393\n",
      "lx[6] 42.6446\n",
      "ly[6] 35.5051\n",
      "f[6] 0.312025\n",
      "s[6] 0.312025\n",
      "tx[7] 33.707\n",
      "ty[7] 12.5298\n",
      "lx[7] 32.0705\n",
      "ly[7] 8.32257\n",
      "f[7] 0.250793\n",
      "s[7] 0.250793\n",
      "tx[8] 32.0705\n",
      "ty[8] 8.32257\n",
      "lx[8] 42.1529\n",
      "ly[8] 1.17701\n",
      "f[8] 0.333333\n",
      "s[8] 0.333333\n",
      "alpha0[1] 0.145236\n",
      "d[1] 0.145236\n",
      "g[1] 1\n",
      "alpha0[2] 0.549006\n",
      "d[2] 0.549006\n",
      "g[2] 1\n",
      "alpha0[3] 0.734712\n",
      "d[3] 0.734712\n",
      "g[3] 1\n",
      "alpha0[4] 0\n",
      "d[4] 0\n",
      "g[4] -0\n",
      "alpha0[5] 0\n",
      "d[5] 0\n",
      "g[5] -0\n",
      "alpha0[6] 1.36958\n",
      "d[6] 1.36958\n",
      "g[6] 1\n",
      "alpha0[7] 0\n",
      "d[7] 0\n",
      "g[7] -0\n",
      "Cx.C3 -7.84709\n",
      "Cy.C3 1.17701\n",
      "C.C3 7.93487\n",
      "Cx.C4 3.00503\n",
      "Cy.C4 35.5796\n",
      "C.C4 35.7063\n",
      "Cx.C19 -0.518507\n",
      "Cy.C19 -6.13882\n",
      "C.C19 100004\n",
      "Cx.C20 -0.298488\n",
      "Cy.C20 -3.53384\n",
      "C.C20 3.54642\n",
      "Cx.C23 1.00755e-09\n",
      "Cy.C23 5.65826e-10\n",
      "C.C23 6\n",
      "Cx.C24 -10.0824\n",
      "Cy.C24 7.14556\n",
      "C.C24 100006\n",
      "Cx.C6.[1] 0.22002\n",
      "Cy.C6.[1] 2.60498\n",
      "C.C6.[1] 2.61425\n",
      "Cx.C6.[2] 9.88209\n",
      "Cy.C6.[2] -0.0228864\n",
      "C.C6.[2] 9.88211\n",
      "Cx.C7.[2] 14.5244\n",
      "Cy.C7.[2] 6.63713\n",
      "C.C7.[2] 200006\n",
      "Cx.C8.[2] 4.64231\n",
      "Cy.C8.[2] 6.66001\n",
      "C.C8.[2] 100006\n",
      "Cx.C9.[2] -14.3044\n",
      "Cy.C9.[2] -4.03215\n",
      "C.C9.[2] 100006\n",
      "Cx.C10.[2] -4.42229\n",
      "Cy.C10.[2] -4.05503\n",
      "C.C10.[2] 6\n",
      "Cx.C6.[3] 13.2248\n",
      "Cy.C6.[3] -0.0306867\n",
      "C.C6.[3] 13.2248\n",
      "Cx.C7.[3] 27.3853\n",
      "Cy.C7.[3] -0.0635048\n",
      "C.C7.[3] 200004\n",
      "Cx.C8.[3] 14.1605\n",
      "Cy.C8.[3] -0.0328181\n",
      "C.C8.[3] 100004\n",
      "Cx.C9.[3] -17.5032\n",
      "Cy.C9.[3] 0.0406184\n",
      "C.C9.[3] 100004\n",
      "Cx.C10.[3] -4.27843\n",
      "Cy.C10.[3] 0.0099317\n",
      "C.C10.[3] 4.27844\n",
      "Cx.C6.[4] 5.59209e-13\n",
      "Cy.C6.[4] -7.25187e-13\n",
      "C.C6.[4] 0\n",
      "Cx.C7.[4] 19.194\n",
      "Cy.C7.[4] -0.0445972\n",
      "C.C7.[4] 100006\n",
      "Cx.C8.[4] 19.194\n",
      "Cy.C8.[4] -0.0445972\n",
      "C.C8.[4] 200006\n",
      "Cx.C9.[4] -5.96923\n",
      "Cy.C9.[4] 0.0139106\n",
      "C.C9.[4] 5.96924\n",
      "Cx.C10.[4] -5.96923\n",
      "Cy.C10.[4] 0.0139106\n",
      "C.C10.[4] 100006\n",
      "Cx.C6.[5] 3.30342e-13\n",
      "Cy.C6.[5] -1.16085e-12\n",
      "C.C6.[5] 0\n",
      "Cx.C7.[5] 3.38088\n",
      "Cy.C7.[5] -4.95677\n",
      "C.C7.[5] 6\n",
      "Cx.C8.[5] 3.38088\n",
      "Cy.C8.[5] -4.95677\n",
      "C.C8.[5] 100006\n",
      "Cx.C9.[5] -3.38088\n",
      "Cy.C9.[5] 4.95677\n",
      "C.C9.[5] 100006\n",
      "Cx.C10.[5] -3.38088\n",
      "Cy.C10.[5] 4.95677\n",
      "C.C10.[5] 200006\n",
      "Cx.C6.[6] -8.93753\n",
      "Cy.C6.[6] -22.9753\n",
      "C.C6.[6] 24.6525\n",
      "Cx.C7.[6] -10.9742\n",
      "Cy.C7.[6] -28.2095\n",
      "C.C7.[6] 100006\n",
      "Cx.C8.[6] -2.03667\n",
      "Cy.C8.[6] -5.23416\n",
      "C.C8.[6] 5.61645\n",
      "Cx.C9.[6] 10.9742\n",
      "Cy.C9.[6] 28.2095\n",
      "C.C9.[6] 200006\n",
      "Cx.C10.[6] 2.03667\n",
      "Cy.C10.[6] 5.23416\n",
      "C.C10.[6] 100006\n",
      "Cx.C6.[7] 1.00755e-09\n",
      "Cy.C6.[7] 5.65826e-10\n",
      "C.C6.[7] 0\n",
      "Cx.C7.[7] -10.574\n",
      "Cy.C7.[7] -27.1825\n",
      "C.C7.[7] 100005\n",
      "Cx.C8.[7] -10.574\n",
      "Cy.C8.[7] -27.1825\n",
      "C.C8.[7] 200005\n",
      "Cx.C9.[7] 1.63648\n",
      "Cy.C9.[7] 4.2072\n",
      "C.C9.[7] 4.51427\n",
      "Cx.C10.[7] 1.63648\n",
      "Cy.C10.[7] 4.2072\n",
      "C.C10.[7] 100005\n",
      "Cx.C5.1.[1] 3.00503\n",
      "Cy.C5.1.[1] -4.4204\n",
      "C.C5.1.[1] 6.25673\n",
      "Cx.C5.2.[1] 3.30352\n",
      "Cy.C5.2.[1] -0.886566\n",
      "C.C5.2.[1] 4.38254\n",
      "Cx.C5.1.[2] 3.52354\n",
      "Cy.C5.1.[2] -8.28159\n",
      "C.C5.1.[2] 9\n",
      "Cx.C5.2.[2] 7.94583\n",
      "Cy.C5.2.[2] -4.22655\n",
      "C.C5.2.[2] 9\n",
      "Cx.C5.1.[3] -2.17208\n",
      "Cy.C5.1.[3] 0.75056\n",
      "C.C5.1.[3] 6.29315\n",
      "Cx.C5.2.[3] 2.10635\n",
      "Cy.C5.2.[3] 0.740628\n",
      "C.C5.2.[3] 6.54217\n",
      "Cx.C5.1.[4] -10.6689\n",
      "Cy.C5.1.[4] -4.29006\n",
      "C.C5.1.[4] 11.5138\n",
      "Cx.C5.2.[4] -4.69966\n",
      "Cy.C5.2.[4] -4.30397\n",
      "C.C5.2.[4] 6.39395\n",
      "Cx.C5.1.[5] -8.69966\n",
      "Cy.C5.1.[5] -2.30397\n",
      "C.C5.1.[5] 8.99957\n",
      "Cx.C5.2.[5] -5.31877\n",
      "Cy.C5.2.[5] -7.26074\n",
      "C.C5.2.[5] 9.00043\n",
      "Cx.C5.1.[6] -5.31877\n",
      "Cy.C5.1.[6] 5.73926\n",
      "C.C5.1.[6] 8.51826\n",
      "Cx.C5.2.[6] -7.35544\n",
      "Cy.C5.2.[6] 0.505096\n",
      "C.C5.2.[6] 8.33109\n",
      "Cx.C5.1.[7] 3.70703\n",
      "Cy.C5.1.[7] 7.52977\n",
      "C.C5.1.[7] 8.85324\n",
      "Cx.C5.2.[7] 2.07054\n",
      "Cy.C5.2.[7] 3.32257\n",
      "C.C5.2.[7] 4.68955\n",
      "Cx.C5.1.[8] 2.07054\n",
      "Cy.C5.1.[8] 5.32257\n",
      "C.C5.1.[8] 5.71112\n",
      "Cx.C5.2.[8] 12.1529\n",
      "Cy.C5.2.[8] -1.82299\n",
      "C.C5.2.[8] 12.2889\n",
      "Obj: 7.5522\n"
     ]
    }
   ],
   "source": [
    "status = m.status\n",
    "if status == GRB.Status.OPTIMAL:\n",
    "    for v in m.getVars():\n",
    "        print('%s %g' % (v.varName, v.x))\n",
    "    print('Obj: %g' % m.objVal)\n",
    "       \n",
    "elif status == GRB.Status.INFEASIBLE:\n",
    "    print('Optimization was stopped with status %d' % status)\n",
    "    # do IIS\n",
    "    m.computeIIS()\n",
    "    for c in m.getConstrs():\n",
    "        if c.IISConstr:\n",
    "            print('%s' % c.constrName)"
   ]
  },
  {
   "cell_type": "code",
   "execution_count": null,
   "metadata": {},
   "outputs": [],
   "source": []
  },
  {
   "cell_type": "code",
   "execution_count": null,
   "metadata": {},
   "outputs": [],
   "source": []
  }
 ],
 "metadata": {
  "kernelspec": {
   "display_name": "Python 3",
   "language": "python",
   "name": "python3"
  },
  "language_info": {
   "codemirror_mode": {
    "name": "ipython",
    "version": 3
   },
   "file_extension": ".py",
   "mimetype": "text/x-python",
   "name": "python",
   "nbconvert_exporter": "python",
   "pygments_lexer": "ipython3",
   "version": "3.6.7"
  }
 },
 "nbformat": 4,
 "nbformat_minor": 2
}
