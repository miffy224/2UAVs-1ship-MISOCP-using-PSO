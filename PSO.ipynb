{
 "cells": [
  {
   "cell_type": "code",
   "execution_count": 1,
   "metadata": {},
   "outputs": [],
   "source": [
    "# Import modules\n",
    "import numpy as np\n",
    "\n",
    "# Import PySwarms\n",
    "import pyswarms as ps\n",
    "from pyswarms.utils.functions import single_obj as fx\n",
    "\n",
    "# Some more magic so that the notebook will reload external python modules;\n",
    "# see http://stackoverflow.com/questions/1907993/autoreload-of-modules-in-ipython\n",
    "%load_ext autoreload\n",
    "%autoreload 2"
   ]
  },
  {
   "cell_type": "code",
   "execution_count": null,
   "metadata": {},
   "outputs": [],
   "source": []
  },
  {
   "cell_type": "code",
   "execution_count": null,
   "metadata": {},
   "outputs": [],
   "source": []
  },
  {
   "cell_type": "markdown",
   "metadata": {},
   "source": [
    "\n",
    "p=[2,2,5]\n",
    "def weight(x, *args):\n",
    "    p = x\n",
    "\n",
    "    return p[0]+p[1]-p[2]\n",
    "lb = [10, 1, 0.01]\n",
    "ub = [30, 3, 0.25]\n",
    "\n",
    "xopt, fopt = pso(weight, lb, ub,maxiter=1000)"
   ]
  },
  {
   "cell_type": "code",
   "execution_count": 2,
   "metadata": {},
   "outputs": [
    {
     "data": {
      "text/plain": [
       "'   \\nfor i in range(1,8):\\n    g[i-1]=int(distance((X[:, i*4],X[:, i*4+1]), (X[:, (i-1)*4],X[:, (i-1)*4+1])) > distance((X[:, (i-1)*4+2],X[:, (i-1)*4+3]), (X[:, (i-1)*4],X[:, (i-1)*4+1])))\\n        \\n'"
      ]
     },
     "execution_count": 2,
     "metadata": {},
     "output_type": "execute_result"
    }
   ],
   "source": [
    "    #Fixed parameters\n",
    "n=8\n",
    "q=((0,0),(0,40),(0,50),(20,45),(46,50),(50,48),(50,35),(30,5),(30,3));\n",
    "qs=(0,0)\n",
    "qf=(50,0)\n",
    "Vc=18\n",
    "Vh=54\n",
    "th=1/3\n",
    "tr=1/6\n",
    "epsilon=0.00001\n",
    "g=[1, 1, 1, 1, 0, 1, 0]\n",
    "\n",
    "p_weight=100\n",
    "\"\"\"   \n",
    "    for i in range(1,8):\n",
    "        g[i-1]=int(distance((X[:, i*4],X[:, i*4+1]), (X[:, (i-1)*4],X[:, (i-1)*4+1])) > distance((X[:, (i-1)*4+2],X[:, (i-1)*4+3]), (X[:, (i-1)*4],X[:, (i-1)*4+1])))\n",
    "            \n",
    "\"\"\""
   ]
  },
  {
   "cell_type": "code",
   "execution_count": 3,
   "metadata": {},
   "outputs": [],
   "source": [
    "tt=-0.5\n"
   ]
  },
  {
   "cell_type": "code",
   "execution_count": 4,
   "metadata": {},
   "outputs": [
    {
     "data": {
      "text/plain": [
       "1"
      ]
     },
     "execution_count": 4,
     "metadata": {},
     "output_type": "execute_result"
    }
   ],
   "source": [
    "np.int_((-1<tt)&(tt<0))"
   ]
  },
  {
   "cell_type": "code",
   "execution_count": 5,
   "metadata": {},
   "outputs": [],
   "source": [
    "\n",
    "def distance(query, target):\n",
    "    x_dist = (target[0] - query[0])**2\n",
    "    y_dist = (target[1] - query[1])**2\n",
    "    dist = np.sqrt(x_dist + y_dist )\n",
    "    return dist\n",
    "\n",
    "\n",
    "def cost_function(X):\n",
    "    \n",
    "    for i in range(1,n):\n",
    "    \n",
    "        g[i-1]=np.int_(distance((X[:, i*4],X[:, i*4+1]), (X[:, (i-1)*4],X[:, (i-1)*4+1]))\n",
    "                   > distance((X[:, (i-1)*4+2],X[:, (i-1)*4+3]), (X[:, (i-1)*4],X[:, (i-1)*4+1])))\n",
    "    \n",
    "    \n",
    "    t1=(X[:, 0],X[:, 1])\n",
    "    Ts=distance(qs, t1)/Vc\n",
    "    ln=(X[:, 4*n-2],X[:, 4*n-1])\n",
    "    Tf=distance(qf, ln)/Vc\n",
    "    #################\n",
    "    f=[]\n",
    "    f.append(0)\n",
    "    \n",
    "    \n",
    "    for i in range(1,n+1):\n",
    "        f.append((1/Vh)*(distance(q[i], (X[:, (i-1)*4],X[:, (i-1)*4+1])\n",
    "                                 )\n",
    "                         + distance(q[i], (X[:, (i-1)*4+2],X[:, (i-1)*4+3])\n",
    "                                   ) \n",
    "                        )+X[:, 31+i]\n",
    "                )\n",
    "        \n",
    "      \n",
    "    pT=[]\n",
    "    pT.append(0)\n",
    "          \n",
    "    for i in range(1,n+1):\n",
    "        tt= f[i]-th\n",
    "        #pT.append(    p_weight*np.int_((1>tt)&(tt>0))   )\n",
    "        #pT.append(    p_weight*np.int_(tt>0)   )\n",
    "        pT.append(p_weight*np.int_(tt>epsilon))\n",
    "        \n",
    "        \n",
    "    ##########\n",
    "    \n",
    "    d=[]\n",
    "    d.append(0)\n",
    "    \n",
    "    for i in range(1,n):\n",
    "        d.append(distance((X[:, i*4],X[:, i*4+1]), (X[:, (i-1)*4+2],X[:, (i-1)*4+3]))/Vc)\n",
    "    \n",
    "    \n",
    "    #########\n",
    "    tm=Ts+Tf+ sum(f[i] for i in range(1,n+1)) + sum((2*g[i-1]-1)*d[i] for i in range(1,n))\n",
    "    #########\n",
    "    \n",
    "    s=[]\n",
    "    s.append(0)\n",
    "    s.append(f[1]-(1-g[0])*d[1])\n",
    "    #s.append(0.1960906793489281)\n",
    "    for i in range(2,n):\n",
    "        s.append(f[i] -(1-g[i-2])*d[i-1] -(1-g[i-1])*d[i])\n",
    "    s.append(f[n]-(1-g[n-2])*d[n-1])\n",
    "    \n",
    "    #########\n",
    "    \n",
    "    #pT1\n",
    "\n",
    "    for i in range(1,n+1):\n",
    "        tt= distance(  (X[:, (i-1)*4],X[:, (i-1)*4+1]),q[i]  ) +distance(q[i], (X[:, (i-1)*4+2],X[:, (i-1)*4+3]))-Vh*f[i]\n",
    "        #pT.append(    p_weight*np.int_((1>tt)&(tt>0))     )\n",
    "        #pT.append(    p_weight*np.int_(tt>0)   )\n",
    "        pT.append(    p_weight*np.int_(tt>epsilon)   ) \n",
    "    \n",
    "    \n",
    "    \n",
    "    \n",
    "    \n",
    "    \"\"\"\n",
    "    X\n",
    "    #pT2\n",
    "\n",
    "    for i in range(1,n):\n",
    "        tt=distance((X[:, (i)*4],X[:, (i)*4+1]),   (X[:, (i-1)*4+2],X[:, (i-1)*4+3]) ) - Vc*d[i]\n",
    "        #pT.append(  p_weight*np.int_(1>    ((abs(tt)+tt )/2 ) ) )\n",
    "        pT.append(   (abs(tt)+tt )/2   )   \n",
    "    X\n",
    "    \"\"\"\n",
    "    \n",
    "    \n",
    "    \n",
    "    \n",
    "    \n",
    "    #pT3\n",
    "    \n",
    "    \n",
    "    for i in range(2,n):\n",
    "        \n",
    "        tt=distance(g[i-2]*(X[:, (i-1)*4],X[:, (i-1)*4+1])   +   (1-g[i-2])*(X[:, (i-2)*4+2],X[:, (i-2)*4+3]),\n",
    "                        (1-g[i-1])*(X[:, (i)*4],X[:, (i)*4+1])  + g[i-1]*(X[:, (i-1)*4+2],X[:, (i-1)*4+3])\n",
    "                    )-s[i]*Vc\n",
    "        #pT.append(    p_weight*np.int_((1>tt)&(tt>0))  )\n",
    "        #pT.append(    p_weight*np.int_(tt>0)   )\n",
    "        pT.append(    p_weight*np.int_(tt>epsilon)   ) \n",
    "    \n",
    "    \n",
    "    \"\"\"\n",
    "    for i in range(2,n):\n",
    "        o=  (X[:, (i-1)*4],X[:, (i-1)*4+1])*np.int_(g[i-2]==1) +(X[:, (i-2)*4+2],X[:, (i-2)*4+3])*np.int_(g[i-2]==0)\n",
    "        d= (X[:, (i-1)*4+2],X[:, (i-1)*4+3])*np.int_(g[i-1]==1) + (X[:, (i)*4],X[:, (i)*4+1])*np.int_(g[i-1]==0)\n",
    "        tt=distance(o,d)-s[i]*Vc\n",
    "        pT.append(    p_weight*np.int_(tt>epsilon)   ) \n",
    "        \n",
    "    \"\"\"\n",
    "    \n",
    "    \n",
    "    \"\"\"\n",
    "    #pT4\n",
    "    for i in range(2,n):\n",
    "        tt=abs( s[i]+(1-g[i-2])*d[i-1]+(1-g[i-1])*d[i]-f[i])\n",
    "        pT.append(    p_weight*np.int_(tt>epsilon)   )\n",
    "    \n",
    "    \n",
    "    \n",
    "    \n",
    "    #pT4\n",
    "\n",
    "    pT.append(    p_weight*np.int_(1>   sum(abs( s[i]+(1-g[i-2])*d[i-1]+(1-g[i-1])*d[i]-f[i]) for i in range(2,n)\n",
    "                                           )\n",
    "                                  )  \n",
    "             )\n",
    "    \n",
    "    \n",
    "    pT.append(  sum(abs( s[i]+(1-g[i-2])*d[i-1]+(1-g[i-1])*d[i]-f[i]\n",
    "                     ) for i in range(2,n)\n",
    "                 )     \n",
    "             )\n",
    "    X\n",
    "    \"\"\"\n",
    "    \n",
    "    \n",
    "    \n",
    "    #pT5\n",
    "    \n",
    "    for i in range(2,n):\n",
    "        tt=s[i]+g[i-2]*d[i-1]+g[i-1]*d[i]-tr\n",
    "        #pT.append(    p_weight*np.int_((-1<tt)&(tt<0)) )\n",
    "        #pT.append(    p_weight*np.int_(tt<0)   )\n",
    "        pT.append(    p_weight*np.int_(tt<-epsilon)   )\n",
    "         \n",
    "    \n",
    "    \n",
    "    \n",
    "    \n",
    "    #pT6\n",
    "    \n",
    "    tt=g[0]*distance( (X[:, 0],X[:, 1]), (X[:, 2],X[:, 3])) + (1-g[0])*distance( (X[:, 0],X[:, 1]), (X[:, 4],X[:, 5]))-s[1]*Vc\n",
    "    #pT.append(    p_weight*np.int_((1>tt)&(tt>0)) )\n",
    "    #pT.append(    p_weight*np.int_(tt>0)   )\n",
    "    pT.append(    p_weight*np.int_(tt>epsilon)   )\n",
    "    \"\"\"    \n",
    "    tt=distance( (X[:, 0],X[:, 1]), (X[:, 2],X[:, 3]))-s[1]*Vc\n",
    "    pT.append(    p_weight*np.int_(tt>epsilon)   )\n",
    "    \"\"\"\n",
    "    \n",
    "    \n",
    "    \"\"\"\n",
    "    #pT7\n",
    "    \n",
    "    pT.append( abs( s[1]+(1-g[0])*d[1] -f[1]\n",
    "                 ))\n",
    "    \n",
    "    #pT7\n",
    "    tt=abs( s[1]+(1-g[0])*d[1] -f[1]\n",
    "                 )\n",
    "    pT.append(    p_weight*np.int_(tt>epsilon)   )\n",
    "    \"\"\"\n",
    "    \n",
    "    #pT8\n",
    "\n",
    "    tt=g[6]*distance((X[:, 4*n-4],X[:, 4*n-3]), (X[:, 4*n-2],X[:, 4*n-1]))+(1-g[n-2])*distance((X[:,  4*n-4],X[:,  4*n-3]), (X[:, 4*n-6],X[:, 4*n-5]))-s[n]*Vc\n",
    "        \n",
    "    #pT.append(p_weight*np.int_((1>tt)&(tt>0)) )\n",
    "    #pT.append(    p_weight*np.int_(tt>0)   )\n",
    "    pT.append(    p_weight*np.int_(tt>epsilon)   )\n",
    "    \n",
    "    \"\"\"\n",
    "    #pT9\n",
    "\n",
    "    pT.append(  abs( s[n]+(1-g[n-2])*d[n-1]-f[n]))\n",
    "    \n",
    "    #pT9\n",
    "    tt=abs( s[n]+(1-g[n-2])*d[n-1]-f[n])\n",
    "    pT.append(    p_weight*np.int_(tt>epsilon)   )\n",
    "    \"\"\"\n",
    "    \n",
    "    \n",
    "    \n",
    "    p=sum(pT[k] for k in range(1,len(pT)))\n",
    "    tmp=tm+p\n",
    "    return tmp"
   ]
  },
  {
   "cell_type": "code",
   "execution_count": 6,
   "metadata": {},
   "outputs": [
    {
     "data": {
      "text/plain": [
       "1"
      ]
     },
     "execution_count": 6,
     "metadata": {},
     "output_type": "execute_result"
    }
   ],
   "source": [
    "np.int_(True)"
   ]
  },
  {
   "cell_type": "code",
   "execution_count": null,
   "metadata": {},
   "outputs": [],
   "source": []
  },
  {
   "cell_type": "code",
   "execution_count": 7,
   "metadata": {},
   "outputs": [
    {
     "data": {
      "text/plain": [
       "'\\nfor i in range(1,n):\\n    g[i-1]=int(distance((a[i*4],a[ i*4+1]), (a[ (i-1)*4],a[ (i-1)*4+1])) > distance((a[ (i-1)*4+2],a[ (i-1)*4+3]), (a[ (i-1)*4],a[(i-1)*4+1])))\\n'"
      ]
     },
     "execution_count": 7,
     "metadata": {},
     "output_type": "execute_result"
    }
   ],
   "source": [
    "\"\"\"\n",
    "a=np.array([ 3.0121253297926383 ,  35.66374454163622,  3.309208259658977 ,  39.18085205605943, \n",
    "            3.5234839866838237 ,  41.71821401130619,  7.945629628000999 ,  45.773411606771525,  \n",
    "            16.735567829802008 ,  45.753340818417435, 19.808753103090282 ,  45.74682499114571,  \n",
    "           35.29866793184733 ,  45.710057054978485 , 41.279615359351325 ,  45.69599370051821, \n",
    "            41.300078778934775 ,  45.69594661333745,  44.68140266520942 ,  40.739474556527874,\n",
    "            44.68017164112507 ,  40.741337154195946,  42.67055769861523 ,  35.57038169820235,  \n",
    "            33.21559066143344 ,  11.265359467028691 ,  32.25015649069365 ,  9.752891596205222,  \n",
    "            32.86156707323325 ,  10.355379952774154, 39.995737007303916 ,  1.5004805713873761,\n",
    "           \n",
    "            0.035185882703834465,1.3001631438136485e-09,0.09441525246987069,0.0004761083988295556,\n",
    "            9.863181937852517e-10,0.027172591678064795,0.056142718813241815,8.259097294960327e-10])\n",
    "\n",
    "\n",
    "\n",
    "\n",
    "\n",
    "\"\"\"\n",
    "\n",
    "a=np.array([ 0 ,  40,  0 ,  40, \n",
    "            0,50,  0,50,  \n",
    "            20,45, 20,45,  \n",
    "           46,50 , 46,50, \n",
    "            50,48,  50,48,\n",
    "            50,35,  50,35,  \n",
    "           30,5 ,  30,5,  \n",
    "           30,3, 30,3,\n",
    "           \n",
    "           0,0,0,0,\n",
    "           0,0,0,0])\n",
    "\n",
    "\n",
    "\n",
    "\"\"\"\n",
    "for i in range(1,n):\n",
    "    g[i-1]=int(distance((a[i*4],a[ i*4+1]), (a[ (i-1)*4],a[ (i-1)*4+1])) > distance((a[ (i-1)*4+2],a[ (i-1)*4+3]), (a[ (i-1)*4],a[(i-1)*4+1])))\n",
    "\"\"\""
   ]
  },
  {
   "cell_type": "code",
   "execution_count": 8,
   "metadata": {},
   "outputs": [],
   "source": [
    "import random\n",
    "import pyswarms.backend as P\n",
    "p=P.generate_swarm(n_particles=1, dimensions=5*n)\n",
    "#b=p+a\n",
    "b=a\n",
    "\n",
    "init=np.vstack((a,b))\n",
    "\n",
    "for i in range(1,9):\n",
    "    p=P.generate_swarm(n_particles=1, dimensions=5*n)\n",
    "    b=random.uniform(0,1)*p*(-1)**i+a\n",
    "    #b=a\n",
    "    \n",
    "    init=np.vstack((init,b))"
   ]
  },
  {
   "cell_type": "code",
   "execution_count": 9,
   "metadata": {},
   "outputs": [],
   "source": [
    "#init"
   ]
  },
  {
   "cell_type": "code",
   "execution_count": null,
   "metadata": {},
   "outputs": [],
   "source": []
  },
  {
   "cell_type": "code",
   "execution_count": null,
   "metadata": {},
   "outputs": [],
   "source": []
  },
  {
   "cell_type": "code",
   "execution_count": null,
   "metadata": {},
   "outputs": [],
   "source": []
  },
  {
   "cell_type": "code",
   "execution_count": 10,
   "metadata": {},
   "outputs": [
    {
     "name": "stderr",
     "output_type": "stream",
     "text": [
      "2020-09-15 11:14:33,151 - pyswarms.single.global_best - INFO - Optimize for 1 iters with {'c1': 2, 'c2': 2, 'w': 0.6}\n",
      "pyswarms.single.global_best: 100%|██████████|1/1, best_cost=9.6\n",
      "2020-09-15 11:14:33,280 - pyswarms.single.global_best - INFO - Optimization finished | best cost: 9.602407213535106, best pos: [ 0. 40.  0. 40.  0. 50.  0. 50. 20. 45. 20. 45. 46. 50. 46. 50. 50. 48.\n",
      " 50. 48. 50. 35. 50. 35. 30.  5. 30.  5. 30.  3. 30.  3.  0.  0.  0.  0.\n",
      "  0.  0.  0.  0.]\n"
     ]
    },
    {
     "name": "stdout",
     "output_type": "stream",
     "text": [
      "CPU times: user 29.8 ms, sys: 9.63 ms, total: 39.4 ms\n",
      "Wall time: 158 ms\n"
     ]
    }
   ],
   "source": [
    "%%time\n",
    "# Set-up hyperparameters\n",
    "options = {'c1': 2, 'c2': 2, 'w':0.6}\n",
    "\n",
    "# Call instance of PSO\n",
    "optimizer = ps.single.GlobalBestPSO(n_particles=10, dimensions=5*n, options=options,init_pos=init)\n",
    "\n",
    "\n",
    "# Perform optimization\n",
    "cost, pos = optimizer.optimize(cost_function, iters=1)"
   ]
  },
  {
   "cell_type": "code",
   "execution_count": 11,
   "metadata": {},
   "outputs": [
    {
     "data": {
      "text/plain": [
       "0.6333458700144354"
      ]
     },
     "execution_count": 11,
     "metadata": {},
     "output_type": "execute_result"
    }
   ],
   "source": [
    "3.529632209626121-0.16090479664509363*18"
   ]
  },
  {
   "cell_type": "code",
   "execution_count": 12,
   "metadata": {},
   "outputs": [],
   "source": [
    "#d=np.vstack((init,a,c))"
   ]
  },
  {
   "cell_type": "code",
   "execution_count": 13,
   "metadata": {},
   "outputs": [
    {
     "data": {
      "text/plain": [
       "-1.865458498784278e-08"
      ]
     },
     "execution_count": 13,
     "metadata": {},
     "output_type": "execute_result"
    }
   ],
   "source": [
    "3.529632209626121-0.1960906793489281*18"
   ]
  },
  {
   "cell_type": "code",
   "execution_count": 14,
   "metadata": {},
   "outputs": [
    {
     "data": {
      "text/plain": [
       "array([ 0., 40.,  0., 40.,  0., 50.,  0., 50., 20., 45., 20., 45., 46.,\n",
       "       50., 46., 50., 50., 48., 50., 48., 50., 35., 50., 35., 30.,  5.,\n",
       "       30.,  5., 30.,  3., 30.,  3.,  0.,  0.,  0.,  0.,  0.,  0.,  0.,\n",
       "        0.])"
      ]
     },
     "execution_count": 14,
     "metadata": {},
     "output_type": "execute_result"
    }
   ],
   "source": [
    "pos"
   ]
  },
  {
   "cell_type": "markdown",
   "metadata": {},
   "source": [
    "\n",
    "import matplotlib.pyplot as plt\n",
    "plt.xlabel(\"x/km\")\n",
    "plt.ylabel(\"y/km\")\n",
    "\n",
    "plt.plot([pos[0], qs[0]],[pos[1],  qs[1]], color= 'b')\n",
    "plt.plot([pos[30], qf[0]],[pos[31],  qf[1]], color= 'b')\n",
    "\n",
    "for i in range(1,8):\n",
    "    \n",
    "    plt.plot([pos[(i-1)*4], pos[(i-1)*4+2]],[pos[(i-1)*4+1],  pos[(i-1)*4+3]], color= 'b')\n",
    "    plt.plot([pos[(i)*4], pos[(i-1)*4+2]],[pos[(i)*4+1],  pos[(i-1)*4+3]], color= 'b')\n",
    "\n",
    "    \n",
    "\"\"\"        \n",
    "    else:\n",
    "        plt.plot([tx[i].X, tx[i+1].X],[ty[i].X,  ty[i+1].X], color= 'b')\n",
    "        plt.plot([lx[i].X, tx[i+1].X],[ly[i].X,  ty[i+1].X], color= 'b')\n",
    "        plt.plot([lx[i].X, lx[i+1].X],[ly[i].X,  ly[i+1].X], color= 'b')\n",
    "        \n",
    "if g[7].X==1:\n",
    "    plt.plot([tx[8].X, lx[8].X],[ty[8].X,  ly[8].X], color= 'b')\n",
    "\"\"\"\n",
    "plt.plot([pos[28], pos[30]],[pos[29],  pos[31]], color= 'b')\n",
    "\n",
    "for i in range(1,9):\n",
    "    plt.plot([q[i][0] ,  pos[(i-1)*4+2]] ,[q[i][1],  pos[(i-1)*4+3]],linestyle= '--')\n",
    "    plt.plot([pos[(i-1)*4], q[i][0]],[pos[(i-1)*4+1],  q[i][1]],linestyle= '--')\n",
    "    plt.plot(q[i][0], q[i][1], marker='*',color='r')\n",
    "    \n"
   ]
  },
  {
   "cell_type": "code",
   "execution_count": 15,
   "metadata": {},
   "outputs": [],
   "source": [
    "import matplotlib.pyplot as plt\n",
    "\n",
    "final_g=[1,1,1,1,1,1,1]\n",
    "\n",
    "for i in range(1,8):\n",
    "    final_g[i-1]=int(distance((pos[i*4],pos[ i*4+1]), (pos[ (i-1)*4],pos[ (i-1)*4+1])) > distance((pos[ (i-1)*4+2],pos[ (i-1)*4+3]), (pos[ (i-1)*4],pos[(i-1)*4+1])))\n",
    "\n",
    "plt.xlabel(\"x/km\")\n",
    "plt.ylabel(\"y/km\")\n",
    "\n",
    "plt.plot([pos[0], qs[0]],[pos[1],  qs[1]], color= 'b')\n",
    "plt.plot([pos[30], qf[0]],[pos[31],  qf[1]], color= 'b')\n",
    "\n",
    "\n",
    "for i in range(1,8):\n",
    "    if final_g[i-1]==1:\n",
    "        plt.plot([pos[(i-1)*4], pos[(i-1)*4+2]],[pos[(i-1)*4+1],  pos[(i-1)*4+3]], color= 'b')\n",
    "        plt.plot([pos[(i)*4], pos[(i-1)*4+2]],[pos[(i)*4+1],  pos[(i-1)*4+3]], color= 'b')\n",
    "        if final_g[i-1]==0:\n",
    "            plt.plot([pos[(i-1)*4], pos[(i-1)*4+2]],[pos[(i-1)*4+1],  pos[(i-1)*4+3]], color= 'b')\n",
    "        \n",
    "    else:\n",
    "        plt.plot([pos[(i-1)*4], pos[(i)*4]],[pos[(i-1)*4+1],  pos[(i)*4+1]], color= 'b')\n",
    "        plt.plot([pos[(i-1)*4+2], pos[(i)*4]],[pos[(i-1)*4+3],  pos[(i)*4+1]], color= 'b')\n",
    "        plt.plot([pos[(i-1)*4+2], pos[(i)*4+2]],[pos[(i-1)*4+3],  pos[(i)*4+3]], color= 'b')\n",
    "        \n",
    "\n",
    "            \n",
    "        \n",
    "        \n",
    "if final_g[6]==1:\n",
    "    plt.plot([pos[28], pos[30]],[pos[29],  pos[31]], color= 'b')\n",
    "\n",
    "for i in range(1,9):\n",
    "    plt.plot([q[i][0] ,  pos[(i-1)*4+2]] ,[q[i][1],  pos[(i-1)*4+3]],linestyle= '--')\n",
    "    plt.plot([pos[(i-1)*4], q[i][0]],[pos[(i-1)*4+1],  q[i][1]],linestyle= '--')\n",
    "    plt.plot(q[i][0], q[i][1], marker='*',color='r')\n",
    "    \n"
   ]
  },
  {
   "cell_type": "code",
   "execution_count": 16,
   "metadata": {},
   "outputs": [
    {
     "data": {
      "text/plain": [
       "[1, 1, 1, 1, 1, 1, 1]"
      ]
     },
     "execution_count": 16,
     "metadata": {},
     "output_type": "execute_result"
    }
   ],
   "source": [
    "final_g"
   ]
  },
  {
   "cell_type": "markdown",
   "metadata": {},
   "source": [
    "pos=[5.21871647e-02, 3.98608683e+01, 5.74530124e-02, 3.99382974e+01,\n",
    "       5.71800383e-02, 3.99374656e+01, 6.59624154e+00, 4.19158409e+01,\n",
    "       2.00447791e+01, 4.50339369e+01, 2.00986169e+01, 4.50389217e+01,\n",
    "       4.14412530e+01, 4.75587293e+01, 4.40098679e+01, 4.52935608e+01,\n",
    "       4.14555104e+01, 4.75565996e+01, 4.43858188e+01, 4.34932818e+01,\n",
    "       4.41513584e+01, 3.51036025e+01, 4.19811910e+01, 3.06006352e+01,\n",
    "       2.99954565e+01, 5.00148720e+00, 2.99961903e+01, 4.99867559e+00,\n",
    "       2.99954226e+01, 5.00147342e+00, 5.00022373e+01, 1.10231422e-04]\n"
   ]
  },
  {
   "cell_type": "code",
   "execution_count": null,
   "metadata": {},
   "outputs": [],
   "source": []
  },
  {
   "cell_type": "code",
   "execution_count": 17,
   "metadata": {},
   "outputs": [
    {
     "data": {
      "text/plain": [
       "[1, 1, 1, 1, 1, 1, 1]"
      ]
     },
     "execution_count": 17,
     "metadata": {},
     "output_type": "execute_result"
    }
   ],
   "source": [
    "final_g"
   ]
  },
  {
   "cell_type": "code",
   "execution_count": null,
   "metadata": {},
   "outputs": [],
   "source": []
  },
  {
   "cell_type": "code",
   "execution_count": null,
   "metadata": {},
   "outputs": [],
   "source": []
  },
  {
   "cell_type": "code",
   "execution_count": null,
   "metadata": {},
   "outputs": [],
   "source": []
  },
  {
   "cell_type": "code",
   "execution_count": 18,
   "metadata": {},
   "outputs": [],
   "source": [
    "\n",
    "# Import modules\n",
    "import matplotlib.pyplot as plt\n",
    "import numpy as np\n",
    "from IPython.display import Image\n",
    "\n",
    "# Import PySwarms\n",
    "import pyswarms as ps\n",
    "from pyswarms.utils.functions import single_obj as fx\n",
    "from pyswarms.utils.plotters import (plot_cost_history, plot_contour, plot_surface)"
   ]
  },
  {
   "cell_type": "code",
   "execution_count": 19,
   "metadata": {},
   "outputs": [
    {
     "data": {
      "image/png": "[encoded data removed]",
      "text/plain": [
       "<Figure size 720x576 with 1 Axes>"
      ]
     },
     "metadata": {
      "needs_background": "light"
     },
     "output_type": "display_data"
    }
   ],
   "source": [
    "plot_cost_history(cost_history=optimizer.cost_history)\n",
    "plt.show()"
   ]
  },
  {
   "cell_type": "code",
   "execution_count": null,
   "metadata": {},
   "outputs": [],
   "source": []
  },
  {
   "cell_type": "code",
   "execution_count": null,
   "metadata": {},
   "outputs": [],
   "source": []
  },
  {
   "cell_type": "code",
   "execution_count": null,
   "metadata": {},
   "outputs": [],
   "source": []
  },
  {
   "cell_type": "code",
   "execution_count": null,
   "metadata": {},
   "outputs": [],
   "source": []
  },
  {
   "cell_type": "code",
   "execution_count": 20,
   "metadata": {},
   "outputs": [
    {
     "data": {
      "text/plain": [
       "0.777117372176071"
      ]
     },
     "execution_count": 20,
     "metadata": {},
     "output_type": "execute_result"
    }
   ],
   "source": [
    "random.uniform(0,1)"
   ]
  },
  {
   "cell_type": "code",
   "execution_count": 21,
   "metadata": {},
   "outputs": [
    {
     "data": {
      "text/plain": [
       "3.8840966131409265"
      ]
     },
     "execution_count": 21,
     "metadata": {},
     "output_type": "execute_result"
    }
   ],
   "source": [
    "random.uniform(0,5)"
   ]
  },
  {
   "cell_type": "code",
   "execution_count": null,
   "metadata": {},
   "outputs": [],
   "source": []
  },
  {
   "cell_type": "code",
   "execution_count": null,
   "metadata": {},
   "outputs": [],
   "source": []
  },
  {
   "cell_type": "code",
   "execution_count": null,
   "metadata": {},
   "outputs": [],
   "source": []
  }
 ],
 "metadata": {
  "kernelspec": {
   "display_name": "Python 3",
   "language": "python",
   "name": "python3"
  },
  "language_info": {
   "codemirror_mode": {
    "name": "ipython",
    "version": 3
   },
   "file_extension": ".py",
   "mimetype": "text/x-python",
   "name": "python",
   "nbconvert_exporter": "python",
   "pygments_lexer": "ipython3",
   "version": "3.6.7"
  }
 },
 "nbformat": 4,
 "nbformat_minor": 2
}
