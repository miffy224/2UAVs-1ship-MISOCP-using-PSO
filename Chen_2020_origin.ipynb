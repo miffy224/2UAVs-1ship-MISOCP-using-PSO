{
 "cells": [
  {
   "cell_type": "code",
   "execution_count": 1,
   "metadata": {},
   "outputs": [],
   "source": [
    "from gurobipy import *\n",
    "from math import * "
   ]
  },
  {
   "cell_type": "code",
   "execution_count": 2,
   "metadata": {},
   "outputs": [],
   "source": [
    "\"\"\"\n",
    "\n",
    "Chen, Y., Ren, S., Chen, Z., Chen, M., & Wu, H. (2020). \n",
    "Path planning for vehicle-borne system consisting of multi air–ground robots. \n",
    "Robotica, 38(3), 493-511.\n",
    "\n",
    "https://scihub.wikicn.top/https://www.cambridge.org/core/journals/robotica/article/path-planning-for-vehicleborne-system-consisting-of-multi-airground-robots/26916C91743D946D9A53DF40D1D54787\n",
    "\n",
    "https://drive.google.com/file/d/1PNCsK-GjcA4XNpoG85c6ynv7K_BhrVVW/view?usp=sharing\n",
    "\"\"\"\n",
    "\n",
    "\n",
    "n=8\n",
    "M=100000\n",
    "\n",
    " \n",
    "q=((0,0),(0,40),(0,50),(20,45),(46,50),(50,48),(50,35),(30,5),(30,3),(30,5),(30,0));\n",
    "\n",
    "\"\"\"\n",
    "q=((0,0),(0,40),(1,40),(3,40),(1,49),(46,50),(48,48),(46,46),(50,48),(50,35),(30,5),(30,0)\n",
    "   ,(50,50),(34,50),(34,9),(0,13),(25,25),(50,34),(34,22),(53,9),(30,13),(15,25)\n",
    "  ,(22,50),(4,50),(5,9),(6,13),(4,25),(8,34),(8,22),(32,9),(8,13),(30,25));\n",
    "\n",
    "\"\"\" \n",
    "qs=(0,0)\n",
    "qf=(50,0)\n",
    "Vc=18\n",
    "Vh=54\n",
    "th=1/3\n",
    "tr=1/6"
   ]
  },
  {
   "cell_type": "code",
   "execution_count": 3,
   "metadata": {},
   "outputs": [
    {
     "data": {
      "text/plain": [
       "50"
      ]
     },
     "execution_count": 3,
     "metadata": {},
     "output_type": "execute_result"
    }
   ],
   "source": [
    "qf[0]"
   ]
  },
  {
   "cell_type": "code",
   "execution_count": 4,
   "metadata": {},
   "outputs": [
    {
     "name": "stdout",
     "output_type": "stream",
     "text": [
      "Academic license - for non-commercial use only\n"
     ]
    }
   ],
   "source": [
    "# Create a new model\n",
    "m = Model(\"MISOCP_2019\")\n",
    "\n",
    "\n",
    "# Create variables\n",
    "\n",
    "\n",
    "tx = {};\n",
    "ty = {};\n",
    "lx = {};\n",
    "ly = {};\n",
    "\n",
    "alpha0 = {};\n",
    "\n",
    "g = {};\n",
    "f = {};\n",
    "s = {};\n",
    "d = {};\n",
    "\n",
    "\n",
    "\n",
    "\n",
    "#for SOCP\n",
    "Cx= {};\n",
    "Cy= {};\n",
    "C= {};\n",
    "\n",
    "\n",
    "\n",
    "\n",
    "Ts= m.addVar(lb=0,vtype = 'C',name='Ts');\n",
    "Tf= m.addVar(lb=0,vtype = 'C',name='Tf');\n",
    "\n",
    "for i in range(1, n+1):\n",
    "    \n",
    "    tx[i] = m.addVar(vtype = 'C',name='tx[%s]'%i);\n",
    "    ty[i] = m.addVar(vtype = 'C',name='ty[%s]'%i);\n",
    "    lx[i] = m.addVar(vtype = 'C',name='lx[%s]'%i);\n",
    "    ly[i] = m.addVar(vtype = 'C',name='ly[%s]'%i);\n",
    "    \n",
    "    \n",
    "    f[i] = m.addVar(lb=0,ub=th,vtype = 'C',name='f[%s]'%i);\n",
    "    s[i] = m.addVar(lb=0,vtype = 'C',name='s[%s]'%i);\n",
    "    \n",
    "    \n",
    "for i in range(1, n):\n",
    "   # alpha0[i] = m.addVar(vtype = 'C',name='alpha0[%s]'%i);\n",
    "    d[i] = m.addVar(lb=0,vtype = 'C',name='d[%s]'%i);\n",
    "    g[i] = m.addVar(lb=0,vtype = 'B',name='g[%s]'%i);\n",
    "\n",
    "        \n",
    "# Integrate new variables\n",
    "\n",
    "m.update()"
   ]
  },
  {
   "cell_type": "code",
   "execution_count": 5,
   "metadata": {},
   "outputs": [
    {
     "data": {
      "text/plain": [
       "'\\n#test\\nm.addConstr( tx[1]  == 1.9470);\\nm.addConstr( tx[2]  == 6.5555);\\nm.addConstr( tx[3]  == 18.9357);\\nm.addConstr( tx[4]  == 34.8446);\\nm.addConstr( tx[5]  == 40.3953);\\nm.addConstr( tx[6]  == 42.1624);\\n#m.addConstr( tx[7]  == 41.4193);\\n#m.addConstr( tx[8]  == 34.5042);\\n\\nm.addConstr( ty[1]  == 40.1419);\\nm.addConstr( ty[2]  == 46.1412);\\nm.addConstr( ty[3]  == 46.3237);\\nm.addConstr( ty[4]  == 46.5194);\\nm.addConstr( ty[5]  == 46.0908);\\nm.addConstr( ty[6]  == 29.5769);\\n#m.addConstr( ty[7]  == 27.8529);\\n#m.addConstr( ty[8]  == 3.9712);\\n\\n \\n    \\nm.addConstr( g[1]  == 1);\\nm.addConstr( g[2]  == 1);\\nm.addConstr( g[3]  == 1);\\nm.addConstr( g[4]  == 0);\\nm.addConstr( g[5]  == 1);\\n#m.addConstr( g[6]  == 0);\\n#m.addConstr( g[7]  == 1);\\n\\n\\nm.addConstr( d[1]  == 1.7738827736085825e-15);\\nm.addConstr( d[2]  == 0.7013033195796641);\\nm.addConstr( d[3]  == 0.6794849200833817);\\nm.addConstr( d[4]  == 0.001601605840596718);\\nm.addConstr( d[5]  == 0.1925480557997278);\\nm.addConstr( d[6]  == 1.3854689816305938);\\nm.addConstr( d[7]  == 1.7641608241680938e-15);\\n\\n'"
      ]
     },
     "execution_count": 5,
     "metadata": {},
     "output_type": "execute_result"
    }
   ],
   "source": [
    "# Add constraint: \n",
    "ctr=0;\n",
    "\n",
    "\n",
    "\n",
    "#C3\n",
    "        \n",
    "ctr=ctr+1;\n",
    "        \n",
    "Cx[ctr] = m.addVar(lb=-GRB.INFINITY,vtype = 'C',name='Cx.C3');\n",
    "Cy[ctr] = m.addVar(lb=-GRB.INFINITY,vtype = 'C',name='Cy.C3');\n",
    "C[ctr] = m.addVar(lb=0.0,vtype = 'C',name='C.C3');\n",
    "            \n",
    "m.addConstr( Cx[ctr]  == lx[n]-qf[0], 'C3cx.1'); \n",
    "m.addConstr( Cy[ctr]  == ly[n]-qf[1], 'C3cy.1');\n",
    "m.addQConstr( Cx[ctr]*Cx[ctr] + Cy[ctr]*Cy[ctr] <=  C[ctr]*C[ctr], 'C3c.2');\n",
    "m.addConstr( C[ctr]-(Vc*Tf)  == 0, 'C3c.3');\n",
    "        \n",
    "\n",
    "    \n",
    "#C4\n",
    "ctr=ctr+1;\n",
    "        \n",
    "Cx[ctr] = m.addVar(lb=-GRB.INFINITY,vtype = 'C',name='Cx.C4');\n",
    "Cy[ctr] = m.addVar(lb=-GRB.INFINITY,vtype = 'C',name='Cy.C4');\n",
    "C[ctr] = m.addVar(lb=0.0,vtype = 'C',name='C.C4');\n",
    "            \n",
    "m.addConstr( Cx[ctr]  == tx[1]-qs[0], 'C4cx.1'); \n",
    "m.addConstr( Cy[ctr]  == ty[1]-qs[1], 'C4cy.1');\n",
    "m.addQConstr( Cx[ctr]*Cx[ctr] + Cy[ctr]*Cy[ctr] <=  C[ctr]*C[ctr], 'C4c.2');\n",
    "m.addConstr( C[ctr]-(Vc*Ts)  == 0, 'C4c.3');\n",
    "\n",
    "\n",
    "\n",
    "\n",
    "\n",
    "\n",
    "#C19\n",
    "ctr=ctr+1;\n",
    "        \n",
    "Cx[ctr] = m.addVar(lb=-GRB.INFINITY,vtype = 'C',name='Cx.C19');\n",
    "Cy[ctr] = m.addVar(lb=-GRB.INFINITY,vtype = 'C',name='Cy.C19');\n",
    "C[ctr] = m.addVar(lb=0.0,vtype = 'C',name='C.C19');\n",
    "            \n",
    "m.addConstr( Cx[ctr]  == tx[1]-tx[2], 'C19cx.1'); \n",
    "m.addConstr( Cy[ctr]  == ty[1]-ty[2], 'C19cy.1');\n",
    "m.addQConstr( Cx[ctr]*Cx[ctr] + Cy[ctr]*Cy[ctr] <=  C[ctr]*C[ctr], 'C19c.2');\n",
    "m.addConstr( C[ctr]-(Vc*s[1])-M*g[1]  == 0, 'C19c.3');\n",
    "\n",
    "\n",
    "#C20\n",
    "ctr=ctr+1;\n",
    "        \n",
    "Cx[ctr] = m.addVar(lb=-GRB.INFINITY,vtype = 'C',name='Cx.C20');\n",
    "Cy[ctr] = m.addVar(lb=-GRB.INFINITY,vtype = 'C',name='Cy.C20');\n",
    "C[ctr] = m.addVar(lb=0.0,vtype = 'C',name='C.C20');\n",
    "            \n",
    "m.addConstr( Cx[ctr]  == tx[1]-lx[1], 'C20cx.1'); \n",
    "m.addConstr( Cy[ctr]  == ty[1]-ly[1], 'C20cy.1');\n",
    "m.addQConstr( Cx[ctr]*Cx[ctr] + Cy[ctr]*Cy[ctr] <=  C[ctr]*C[ctr], 'C20c.2');\n",
    "m.addConstr( C[ctr] -Vc*s[1] -M*(1-g[1])  == 0, 'C20c.3');\n",
    "\n",
    "\n",
    "#C21\n",
    "m.addConstr( -M*g[1]  <= f[1]-(s[1]+d[1]), 'C21cx.1'); \n",
    "m.addConstr( f[1]-(s[1]+d[1]) <= M*g[1], 'C21cx.2'); \n",
    "\n",
    "#C22\n",
    "m.addConstr( -M*(1-g[1])  <= f[1]-s[1], 'C22cx.1'); \n",
    "m.addConstr( f[1]-s[1]  <= M*(1-g[1]), 'C22cx.2'); \n",
    "\n",
    "\n",
    "\n",
    "#C23\n",
    "ctr=ctr+1;\n",
    "        \n",
    "Cx[ctr] = m.addVar(lb=-GRB.INFINITY,vtype = 'C',name='Cx.C23');\n",
    "Cy[ctr] = m.addVar(lb=-GRB.INFINITY,vtype = 'C',name='Cy.C23');\n",
    "C[ctr] = m.addVar(lb=0.0,vtype = 'C',name='C.C23');\n",
    "            \n",
    "m.addConstr( Cx[ctr]  == tx[n]-lx[n-1], 'C23cx.1'); \n",
    "m.addConstr( Cy[ctr]  == ty[n]-ly[n-1], 'C23cy.1');\n",
    "m.addQConstr( Cx[ctr]*Cx[ctr] + Cy[ctr]*Cy[ctr] <=  C[ctr]*C[ctr], 'C23c.2');\n",
    "m.addConstr( C[ctr] -Vc*s[n] -M*g[n-1]  == 0, 'C23c.3');\n",
    "\n",
    "\n",
    "#C24\n",
    "ctr=ctr+1;\n",
    "        \n",
    "Cx[ctr] = m.addVar(lb=-GRB.INFINITY,vtype = 'C',name='Cx.C24');\n",
    "Cy[ctr] = m.addVar(lb=-GRB.INFINITY,vtype = 'C',name='Cy.C24');\n",
    "C[ctr] = m.addVar(lb=0.0,vtype = 'C',name='C.C24');\n",
    "            \n",
    "m.addConstr( Cx[ctr]  == tx[n]-lx[n], 'C24cx.1'); \n",
    "m.addConstr( Cy[ctr]  == ty[n]-ly[n], 'C24cy.1');\n",
    "m.addQConstr( Cx[ctr]*Cx[ctr] + Cy[ctr]*Cy[ctr] <=  C[ctr]*C[ctr], 'C24c.2');\n",
    "m.addConstr( C[ctr] -Vc*s[n] -M*(1-g[n-1])  == 0, 'C24c.3');\n",
    "\n",
    "\n",
    "#C25\n",
    "m.addConstr( -M*g[n-1]  <= f[n]-(s[n]+d[n-1]), 'C25.1'); \n",
    "m.addConstr( f[n]-(s[n]+d[n-1])  <= M*g[n-1], 'C25.2'); \n",
    "\n",
    "\n",
    "#C26\n",
    "m.addConstr( -M*(1-g[n-1]) <= f[n]-s[n], 'C26.1'); \n",
    "m.addConstr( f[n]-s[n]  <= M*(1-g[n-1]), 'C26.2'); \n",
    "\n",
    "\n",
    "for i in range(1, n):\n",
    "    \"\"\"\n",
    "    #C1\n",
    "    m.addConstr( -M*g[i] <= alpha0[i]+d[i]  ,'C.1.1.[%s]'%i);\n",
    "    m.addConstr( alpha0[i]+d[i] <= M*g[i]  ,'C.1.2.[%s]'%i);\n",
    "    #C2\n",
    "    m.addConstr( -M*(1-g[i]) <= alpha0[i]-d[i]  ,'C.2.1.[%s]'%i);\n",
    "    m.addConstr( alpha0[i]-d[i] <= M*(1-g[i]) ,'C.2.2.[%s]'%i);\n",
    "    \"\"\"\n",
    "    \n",
    "    \n",
    "    #C6\n",
    "    ctr=ctr+1;\n",
    "        \n",
    "    Cx[ctr] = m.addVar(lb=-GRB.INFINITY,vtype = 'C',name='Cx.C6.[%s]'%i);\n",
    "    Cy[ctr] = m.addVar(lb=-GRB.INFINITY,vtype = 'C',name='Cy.C6.[%s]'%i);\n",
    "    C[ctr] = m.addVar(lb=0.0,vtype = 'C',name='C.C6.[%s]'%i);\n",
    "            \n",
    "    m.addConstr( Cx[ctr]  == tx[i+1]-lx[i], 'C6cx.1.[%s]'%i); \n",
    "    m.addConstr( Cy[ctr]  == ty[i+1]-ly[i], 'C6cy.1.[%s]'%i);\n",
    "    m.addQConstr( Cx[ctr]*Cx[ctr] + Cy[ctr]*Cy[ctr] <=  C[ctr]*C[ctr], 'C6c.2.[%s]'%i);\n",
    "    m.addConstr( C[ctr]-(Vc*d[i])  == 0, 'C6c.3.[%s]'%i);\n",
    "    \n",
    "    if i>1:\n",
    "        #C7\n",
    "        ctr=ctr+1;\n",
    "        \n",
    "        Cx[ctr] = m.addVar(lb=-GRB.INFINITY,vtype = 'C',name='Cx.C7.[%s]'%i);\n",
    "        Cy[ctr] = m.addVar(lb=-GRB.INFINITY,vtype = 'C',name='Cy.C7.[%s]'%i);\n",
    "        C[ctr] = m.addVar(lb=0.0,vtype = 'C',name='C.C7.[%s]'%i);\n",
    "            \n",
    "        m.addConstr( Cx[ctr]  == tx[i+1]-lx[i-1], 'C7cx.1.[%s]'%i); \n",
    "        m.addConstr( Cy[ctr]  == ty[i+1]-ly[i-1], 'C7cy.1.[%s]'%i);\n",
    "        m.addQConstr( Cx[ctr]*Cx[ctr] + Cy[ctr]*Cy[ctr] <=  C[ctr]*C[ctr], 'C7c.2.[%s]'%i);\n",
    "        m.addConstr( C[ctr]-(Vc*s[i])-M*g[i-1] - M*g[i] == 0, 'C7c.3.[%s]'%i);\n",
    "        \n",
    "        #C8\n",
    "        Cx[ctr] = m.addVar(lb=-GRB.INFINITY,vtype = 'C',name='Cx.C8.[%s]'%i);\n",
    "        Cy[ctr] = m.addVar(lb=-GRB.INFINITY,vtype = 'C',name='Cy.C8.[%s]'%i);\n",
    "        C[ctr] = m.addVar(lb=0.0,vtype = 'C',name='C.C8.[%s]'%i);\n",
    "            \n",
    "        m.addConstr( Cx[ctr]  == lx[i]-lx[i-1], 'C8cx.1.[%s]'%i); \n",
    "        m.addConstr( Cy[ctr]  == ly[i]-ly[i-1], 'C8cy.1.[%s]'%i);\n",
    "        m.addQConstr( Cx[ctr]*Cx[ctr] + Cy[ctr]*Cy[ctr] <=  C[ctr]*C[ctr], 'C8c.2.[%s]'%i);\n",
    "        m.addConstr( C[ctr]-(Vc*s[i])-M*g[i-1] - M*(1-g[i]) == 0, 'C8c.3.[%s]'%i);        \n",
    "    \n",
    "        #C9\n",
    "        Cx[ctr] = m.addVar(lb=-GRB.INFINITY,vtype = 'C',name='Cx.C9.[%s]'%i);\n",
    "        Cy[ctr] = m.addVar(lb=-GRB.INFINITY,vtype = 'C',name='Cy.C9.[%s]'%i);\n",
    "        C[ctr] = m.addVar(lb=0.0,vtype = 'C',name='C.C9.[%s]'%i);\n",
    "            \n",
    "        m.addConstr( Cx[ctr]  == tx[i]-tx[i+1], 'C9cx.1.[%s]'%i); \n",
    "        m.addConstr( Cy[ctr]  == ty[i]-ty[i+1], 'C9cy.1.[%s]'%i);\n",
    "        m.addQConstr( Cx[ctr]*Cx[ctr] + Cy[ctr]*Cy[ctr] <=  C[ctr]*C[ctr], 'C9c.2.[%s]'%i);\n",
    "        m.addConstr( C[ctr]-(Vc*s[i])-M*(1-g[i-1]) - M*g[i] == 0, 'C9c.3.[%s]'%i);   \n",
    "        \n",
    "        #C10\n",
    "        Cx[ctr] = m.addVar(lb=-GRB.INFINITY,vtype = 'C',name='Cx.C10.[%s]'%i);\n",
    "        Cy[ctr] = m.addVar(lb=-GRB.INFINITY,vtype = 'C',name='Cy.C10.[%s]'%i);\n",
    "        C[ctr] = m.addVar(lb=0.0,vtype = 'C',name='C.C10.[%s]'%i);\n",
    "            \n",
    "        m.addConstr( Cx[ctr]  == tx[i]-lx[i], 'C10cx.1.[%s]'%i); \n",
    "        m.addConstr( Cy[ctr]  == ty[i]-ly[i], 'C10cy.1.[%s]'%i);\n",
    "        m.addQConstr( Cx[ctr]*Cx[ctr] + Cy[ctr]*Cy[ctr] <=  C[ctr]*C[ctr], 'C10c.2.[%s]'%i);\n",
    "        m.addConstr( C[ctr]-(Vc*s[i])-M*(1-g[i-1]) - M*(1-g[i]) == 0, 'C10c.3.[%s]'%i);\n",
    "        \n",
    "        \n",
    "        \n",
    "        \n",
    "        \n",
    "        #C11\n",
    "        m.addConstr( -(M*g[i-1]+M*g[i])  <= f[i]-(s[i]+d[i-1]+d[i]), 'C11.1.[%s]'%i); \n",
    "        m.addConstr( f[i]-(s[i]+d[i-1]+d[i])  <= M*g[i-1]+M*g[i], 'C11.2.[%s]'%i); \n",
    "        \n",
    "        #C12\n",
    "        m.addConstr( -(M*g[i-1]+M*(1-g[i]))  <= f[i]-(s[i]+d[i-1]), 'C12.1.[%s]'%i); \n",
    "        m.addConstr( f[i]-(s[i]+d[i-1])  <= M*g[i-1]+M*(1-g[i]), 'C12.2.[%s]'%i); \n",
    "        \n",
    "        #C13\n",
    "        m.addConstr( -(M*(1-g[i-1])+M*g[i])  <= f[i]-(s[i]+d[i]), 'C13.1.[%s]'%i); \n",
    "        m.addConstr( f[i]-(s[i]+d[i-1])  <= M*(1-g[i-1])+M*g[i], 'C13.2.[%s]'%i); \n",
    "\n",
    "        \n",
    "        #C14\n",
    "        m.addConstr( -(M*(1-g[i-1])+M*(1-g[i]))  <= f[i]-s[i], 'C14.1.[%s]'%i); \n",
    "        m.addConstr( f[i]-s[i] <= M*(1-g[i-1])+M*(1-g[i]), 'C14.2.[%s]'%i); \n",
    "        \n",
    "        \n",
    "        \n",
    "        \n",
    "        #C15\n",
    "        m.addConstr( s[i]+M*g[i-1]+M*g[i]  >= tr, 'C15.[%s]'%i); \n",
    "        #C16\n",
    "        m.addConstr( s[i]+d[i]+M*g[i-1]+M*(1-g[i])  >= tr, 'C16.[%s]'%i); \n",
    "        #C17\n",
    "        m.addConstr( s[i]+d[i-1]+M*(1-g[i-1]) + M*g[i]  >= tr, 'C17.[%s]'%i); \n",
    "        #C18\n",
    "        m.addConstr( s[i]+d[i-1]+d[i]+M*(1-g[i-1]) + M*(1-g[i])  >= tr, 'C18.[%s]'%i); \n",
    "        \n",
    "        \n",
    "for i in range(1, n+1):\n",
    "    \n",
    "    #m.addConstr( f[i]  <= th, 'f[%s]'%i); \n",
    "  \n",
    "    #C5\n",
    "    ctr=ctr+1; \n",
    "    Cx[ctr] = m.addVar(lb=-GRB.INFINITY,vtype = 'C',name='Cx.C5.1.[%s]'%i);\n",
    "    Cy[ctr] = m.addVar(lb=-GRB.INFINITY,vtype = 'C',name='Cy.C5.1.[%s]'%i);\n",
    "    C[ctr] = m.addVar(lb=0.0,vtype = 'C',name='C.C5.1.[%s]'%i);\n",
    "\n",
    "    ctr=ctr+1; \n",
    "    Cx[ctr] = m.addVar(lb=-GRB.INFINITY,vtype = 'C',name='Cx.C5.2.[%s]'%i);\n",
    "    Cy[ctr] = m.addVar(lb=-GRB.INFINITY,vtype = 'C',name='Cy.C5.2.[%s]'%i);\n",
    "    C[ctr] = m.addVar(lb=0.0,ub=GRB.INFINITY,vtype = 'C',name='C.C5.2.[%s]'%i);\n",
    "    \n",
    "    m.addConstr( Cx[ctr-1]  == tx[i]-q[i][0], 'C5cx.1.1.[%s]'%i); \n",
    "    m.addConstr( Cy[ctr-1]  == ty[i]-q[i][1], 'C5cy.1.1.[%s]'%i);\n",
    "    m.addQConstr( Cx[ctr-1]*Cx[ctr-1] + Cy[ctr-1]*Cy[ctr-1] <=  C[ctr-1]*C[ctr-1], 'C5c.2.1.[%s]'%i);\n",
    "    \n",
    "    m.addConstr( Cx[ctr]  == lx[i]-q[i][0], 'C5cx.1.2.[%s]'%i); \n",
    "    m.addConstr( Cy[ctr]  == ly[i]-q[i][1], 'C5cy.1.2.[%s]'%i);\n",
    "    m.addQConstr( Cx[ctr]*Cx[ctr] + Cy[ctr]*Cy[ctr] <=  C[ctr]*C[ctr], 'C5c.2.2.[%s]'%i);\n",
    "    \n",
    "    m.addConstr( C[ctr]+C[ctr-1]-Vh*f[i]  == 0, 'C5c.3.[%s]'%i);\n",
    "    \n",
    "\n",
    "\"\"\"\n",
    "#test\n",
    "m.addConstr( tx[1]  == 1.9470);\n",
    "m.addConstr( tx[2]  == 6.5555);\n",
    "m.addConstr( tx[3]  == 18.9357);\n",
    "m.addConstr( tx[4]  == 34.8446);\n",
    "m.addConstr( tx[5]  == 40.3953);\n",
    "m.addConstr( tx[6]  == 42.1624);\n",
    "#m.addConstr( tx[7]  == 41.4193);\n",
    "#m.addConstr( tx[8]  == 34.5042);\n",
    "\n",
    "m.addConstr( ty[1]  == 40.1419);\n",
    "m.addConstr( ty[2]  == 46.1412);\n",
    "m.addConstr( ty[3]  == 46.3237);\n",
    "m.addConstr( ty[4]  == 46.5194);\n",
    "m.addConstr( ty[5]  == 46.0908);\n",
    "m.addConstr( ty[6]  == 29.5769);\n",
    "#m.addConstr( ty[7]  == 27.8529);\n",
    "#m.addConstr( ty[8]  == 3.9712);\n",
    "\n",
    " \n",
    "    \n",
    "m.addConstr( g[1]  == 1);\n",
    "m.addConstr( g[2]  == 1);\n",
    "m.addConstr( g[3]  == 1);\n",
    "m.addConstr( g[4]  == 0);\n",
    "m.addConstr( g[5]  == 1);\n",
    "#m.addConstr( g[6]  == 0);\n",
    "#m.addConstr( g[7]  == 1);\n",
    "\n",
    "\n",
    "m.addConstr( d[1]  == 1.7738827736085825e-15);\n",
    "m.addConstr( d[2]  == 0.7013033195796641);\n",
    "m.addConstr( d[3]  == 0.6794849200833817);\n",
    "m.addConstr( d[4]  == 0.001601605840596718);\n",
    "m.addConstr( d[5]  == 0.1925480557997278);\n",
    "m.addConstr( d[6]  == 1.3854689816305938);\n",
    "m.addConstr( d[7]  == 1.7641608241680938e-15);\n",
    "\n",
    "\"\"\" \n"
   ]
  },
  {
   "cell_type": "code",
   "execution_count": 6,
   "metadata": {},
   "outputs": [],
   "source": [
    "###Objective Function\n",
    "\n",
    "tm = Ts+Tf+ quicksum(f[i] for i in range(1,n+1)) + quicksum((2*g[i]-1)*d[i] for i in range(1,n)) \n",
    "#Ts+Tf+ quicksum(f[i] for i in range(1,n+1)) + quicksum((2*g[i]-1)*d[i] for i in range(1,n)) \n",
    "#Ts+Tf+ quicksum(f[i] for i in range(1,n+1)) + quicksum(alpha0[i] for i in range(1,n))\n",
    "m.setObjective(tm,GRB.MINIMIZE)"
   ]
  },
  {
   "cell_type": "code",
   "execution_count": 7,
   "metadata": {},
   "outputs": [
    {
     "name": "stdout",
     "output_type": "stream",
     "text": [
      "Optimize a model with 231 rows, 223 columns and 796 nonzeros\n",
      "Model has 7 quadratic objective terms\n",
      "Model has 53 quadratic constraints\n",
      "Variable types: 216 continuous, 7 integer (7 binary)\n",
      "Coefficient statistics:\n",
      "  Matrix range     [1e+00, 1e+05]\n",
      "  QMatrix range    [1e+00, 1e+00]\n",
      "  Objective range  [1e+00, 1e+00]\n",
      "  QObjective range [4e+00, 4e+00]\n",
      "  Bounds range     [3e-01, 1e+00]\n",
      "  RHS range        [2e-01, 2e+05]\n",
      "Presolve removed 44 rows and 44 columns\n",
      "Presolve time: 0.02s\n",
      "Presolved: 194 rows, 186 columns, 727 nonzeros\n",
      "Variable types: 179 continuous, 7 integer (7 binary)\n",
      "\n",
      "Root relaxation: objective -3.500006e+05, 24 iterations, 0.00 seconds\n",
      "\n",
      "    Nodes    |    Current Node    |     Objective Bounds      |     Work\n",
      " Expl Unexpl |  Obj  Depth IntInf | Incumbent    BestBd   Gap | It/Node Time\n",
      "\n",
      "     0     0 -350000.58    0    7          - -350000.58      -     -    0s\n",
      "     0     0 -266665.74    0    7          - -266665.74      -     -    0s\n",
      "     0     0 -266665.67    0    7          - -266665.67      -     -    0s\n",
      "     0     0 -259998.87    0    7          - -259998.87      -     -    0s\n",
      "     0     0 -233331.80    0    5          - -233331.80      -     -    0s\n",
      "     0     0 -233331.80    0    5          - -233331.80      -     -    0s\n",
      "     0     0 -226664.89    0    5          - -226664.89      -     -    0s\n",
      "     0     0 -216664.89    0    5          - -216664.89      -     -    0s\n",
      "     0     0 -216664.88    0    5          - -216664.88      -     -    0s\n",
      "     0     0 -216664.88    0    5          - -216664.88      -     -    0s\n",
      "H    0     0                       7.6451066 -216664.88      -     -    0s\n",
      "H    0     0                       7.6451065 -216664.88      -     -    0s\n",
      "     0     2 -216664.88    0    5    7.64511 -216664.88      -     -    0s\n",
      "H   24    11                       7.6450934 -116664.10      -  21.5    0s\n",
      "H   38     8                       7.5522408 -108331.57      -  27.3    0s\n",
      "*   38     8               7       7.5522408 -108331.57      -  28.2    0s\n",
      "H   68    10                       7.5522394 -49997.941      -  36.3    0s\n",
      "*   68    10               7       7.5522394 -49997.941      -  37.0    0s\n",
      "H  142     1                       7.5522023    6.41465  15.1%  47.6    0s\n",
      "*  142     1               7       7.5522023    6.41465  15.1%  48.1    0s\n",
      "H  226     0                       7.5522016    7.53829  0.18%  44.2    0s\n",
      "*  226     0               7       7.5522016    7.53956  0.17%  44.3    0s\n",
      "H  234     0                       7.5522011    7.54170  0.14%  43.6    0s\n",
      "*  234     0               7       7.5522011    7.54170  0.14%  44.0    0s\n",
      "\n",
      "Cutting planes:\n",
      "  Gomory: 2\n",
      "  Implied bound: 2\n",
      "  MIR: 9\n",
      "\n",
      "Explored 260 nodes (11445 simplex iterations) in 0.69 seconds\n",
      "Thread count was 4 (of 4 available processors)\n",
      "\n",
      "Solution count 8: 7.5522 7.5522 7.5522 ... 7.64511\n",
      "\n",
      "Optimal solution found (tolerance 1.00e-04)\n",
      "Best objective 7.552201069087e+00, best bound 7.551611099436e+00, gap 0.0078%\n"
     ]
    }
   ],
   "source": [
    "m.optimize()"
   ]
  },
  {
   "cell_type": "code",
   "execution_count": 8,
   "metadata": {
    "scrolled": true
   },
   "outputs": [
    {
     "name": "stdout",
     "output_type": "stream",
     "text": [
      "t_m: 7.5522010690871975 hours\n",
      "\n",
      "runtime is 0.7035660743713379 secs\n",
      "\n",
      "M: 100000 \n",
      "\n",
      "n: 8 \n",
      "-----\n",
      "g 1 : 1.0\n",
      "g 2 : 1.0\n",
      "g 3 : 1.0\n",
      "g 4 : 1.0\n",
      "g 5 : 0.0\n",
      "g 6 : 1.0\n",
      "g 7 : 0.0\n",
      "\n",
      "t 1  : ( 3.0121253297926383 ,  35.66374454163622 )\n",
      "l 1  : ( 3.309208259658977 ,  39.18085205605943 )\n",
      "-----\n",
      "\n",
      "t 2  : ( 3.5234839866838237 ,  41.71821401130619 )\n",
      "l 2  : ( 7.945629628000999 ,  45.773411606771525 )\n",
      "-----\n",
      "\n",
      "t 3  : ( 16.735567829802008 ,  45.753340818417435 )\n",
      "l 3  : ( 19.808753103090282 ,  45.74682499114571 )\n",
      "-----\n",
      "\n",
      "t 4  : ( 35.29866793184733 ,  45.710057054978485 )\n",
      "l 4  : ( 41.279615359351325 ,  45.69599370051821 )\n",
      "-----\n",
      "\n",
      "t 5  : ( 41.300078778934775 ,  45.69594661333745 )\n",
      "l 5  : ( 44.68140266520942 ,  40.739474556527874 )\n",
      "-----\n",
      "\n",
      "t 6  : ( 44.68017164112507 ,  40.741337154195946 )\n",
      "l 6  : ( 42.67055769861523 ,  35.57038169820235 )\n",
      "-----\n",
      "\n",
      "t 7  : ( 33.21559066143344 ,  11.265359467028691 )\n",
      "l 7  : ( 32.25015649069365 ,  9.752891596205222 )\n",
      "-----\n",
      "\n",
      "t 8  : ( 32.86156707323325 ,  10.355379952774154 )\n",
      "l 8  : ( 39.995737007303916 ,  1.5004805713873761 )\n",
      "-----\n"
     ]
    }
   ],
   "source": [
    "obj = m.getObjective()\n",
    "print(\"t_m:\",obj.getValue(),\"hours\\n\")\n",
    "print ('runtime is',m.Runtime,\"secs\\n\")\n",
    "print(\"M:\",M,\"\\n\")\n",
    "print(\"n:\",n,\"\\n-----\")\n",
    "for i in range(1,n):\n",
    "    print(\"g\",i,\":\",abs(g[i].X))\n",
    "\n",
    "for i in range(1,n+1):\n",
    "    print(\"\\nt\", i,\" : (\",tx[i].X,\", \", ty[i].X,\")\")\n",
    "    print(\"l\", i,\" : (\",lx[i].X,\", \", ly[i].X,\")\\n-----\")\n",
    "    \n",
    "        \n"
   ]
  },
  {
   "cell_type": "markdown",
   "metadata": {},
   "source": [
    "# Draw the graph"
   ]
  },
  {
   "cell_type": "code",
   "execution_count": 43,
   "metadata": {},
   "outputs": [
    {
     "data": {
      "image/png": "[encoded data removed]",
      "text/plain": [
       "<Figure size 432x288 with 1 Axes>"
      ]
     },
     "metadata": {
      "needs_background": "light"
     },
     "output_type": "display_data"
    }
   ],
   "source": [
    "import matplotlib.pyplot as plt\n",
    "plt.xlabel(\"x/km\")\n",
    "plt.ylabel(\"y/km\")\n",
    "\n",
    "plt.plot([tx[1].X, qs[0]],[ty[1].X,  qs[1]], color= 'b')\n",
    "plt.plot([lx[n].X, qf[0]],[ly[n].X,  qf[1]], color= 'b')\n",
    "\n",
    "for i in range(1,n):\n",
    "    if g[i].X>0.9:\n",
    "        plt.plot([tx[i].X, lx[i].X],[ty[i].X,  ly[i].X], color= 'b')\n",
    "        plt.plot([tx[i+1].X, lx[i].X],[ty[i+1].X,  ly[i].X], color= 'b')\n",
    "        \n",
    "    else:\n",
    "        plt.plot([tx[i].X, tx[i+1].X],[ty[i].X,  ty[i+1].X], color= 'b')\n",
    "        plt.plot([lx[i].X, tx[i+1].X],[ly[i].X,  ty[i+1].X], color= 'b')\n",
    "        plt.plot([lx[i].X, lx[i+1].X],[ly[i].X,  ly[i+1].X], color= 'b')\n",
    "        \n",
    "if g[n-1].X>0.9:\n",
    "    plt.plot([tx[n].X, lx[n].X],[ty[n].X,  ly[n].X], color= 'b')\n",
    "\n",
    "for i in range(1,n+1):\n",
    "    plt.plot([q[i][0] ,  lx[i].X] ,[q[i][1],  ly[i].X],linestyle= '--')\n",
    "    plt.plot([tx[i].X, q[i][0]],[ty[i].X,  q[i][1]],linestyle= '--')\n",
    "    plt.plot(q[i][0], q[i][1], marker='*',color='r')"
   ]
  },
  {
   "cell_type": "code",
   "execution_count": null,
   "metadata": {},
   "outputs": [],
   "source": []
  },
  {
   "cell_type": "code",
   "execution_count": null,
   "metadata": {},
   "outputs": [],
   "source": []
  },
  {
   "cell_type": "code",
   "execution_count": null,
   "metadata": {},
   "outputs": [],
   "source": []
  },
  {
   "cell_type": "code",
   "execution_count": null,
   "metadata": {},
   "outputs": [],
   "source": []
  },
  {
   "cell_type": "code",
   "execution_count": null,
   "metadata": {},
   "outputs": [],
   "source": []
  },
  {
   "cell_type": "code",
   "execution_count": null,
   "metadata": {},
   "outputs": [],
   "source": []
  },
  {
   "cell_type": "code",
   "execution_count": null,
   "metadata": {},
   "outputs": [],
   "source": []
  },
  {
   "cell_type": "markdown",
   "metadata": {},
   "source": [
    "# Debug"
   ]
  },
  {
   "cell_type": "markdown",
   "metadata": {},
   "source": [
    "## 測obj有沒有算錯：ＯＫ"
   ]
  },
  {
   "cell_type": "code",
   "execution_count": 10,
   "metadata": {},
   "outputs": [],
   "source": [
    "import numpy as np\n",
    "def distance(tx,ty ,lx,ly):\n",
    "    x_dist = (tx - lx)**2\n",
    "    y_dist = (ty - ly)**2\n",
    "    dist = np.sqrt(x_dist + y_dist )\n",
    "    return dist\n",
    "\n"
   ]
  },
  {
   "cell_type": "code",
   "execution_count": 11,
   "metadata": {},
   "outputs": [],
   "source": [
    "Tf=distance(qf[0],qf[1] ,lx[n].X,  ly[n].X)"
   ]
  },
  {
   "cell_type": "code",
   "execution_count": 12,
   "metadata": {},
   "outputs": [],
   "source": [
    "Ts=distance(qs[0],qs[1] ,tx[1].X,  ty[1].X)"
   ]
  },
  {
   "cell_type": "code",
   "execution_count": 13,
   "metadata": {},
   "outputs": [],
   "source": [
    "#quicksum(f[i] for i in range(1,n+1)) + quicksum((2*g[i]-1)*d[i] for i in range(1,n)) "
   ]
  },
  {
   "cell_type": "code",
   "execution_count": 14,
   "metadata": {},
   "outputs": [],
   "source": [
    "ff=sum(f[i].X for i in range(1,n+1)) "
   ]
  },
  {
   "cell_type": "code",
   "execution_count": 15,
   "metadata": {},
   "outputs": [
    {
     "data": {
      "text/plain": [
       "2.2912977846874054"
      ]
     },
     "execution_count": 15,
     "metadata": {},
     "output_type": "execute_result"
    }
   ],
   "source": [
    "ff"
   ]
  },
  {
   "cell_type": "code",
   "execution_count": 16,
   "metadata": {},
   "outputs": [],
   "source": [
    "dd=sum((2*g[i].X-1)*d[i].X for i in range(1,n)) "
   ]
  },
  {
   "cell_type": "code",
   "execution_count": 17,
   "metadata": {},
   "outputs": [
    {
     "data": {
      "text/plain": [
       "2.710521036578921"
      ]
     },
     "execution_count": 17,
     "metadata": {},
     "output_type": "execute_result"
    }
   ],
   "source": [
    "dd"
   ]
  },
  {
   "cell_type": "code",
   "execution_count": 18,
   "metadata": {},
   "outputs": [
    {
     "data": {
      "text/plain": [
       "{1: <gurobi.Var d[1] (value 0.14146630546639502)>,\n",
       " 2: <gurobi.Var d[2] (value 0.48833117360636513)>,\n",
       " 3: <gurobi.Var d[3] (value 0.8605532549709884)>,\n",
       " 4: <gurobi.Var d[4] (value 0.0011368607869243273)>,\n",
       " 5: <gurobi.Var d[5] (value 0.00012404759483702405)>,\n",
       " 6: <gurobi.Var d[6] (value 1.448850659330859)>,\n",
       " 7: <gurobi.Var d[7] (value 0.2296931699877743)>}"
      ]
     },
     "execution_count": 18,
     "metadata": {},
     "output_type": "execute_result"
    }
   ],
   "source": [
    "d"
   ]
  },
  {
   "cell_type": "code",
   "execution_count": 19,
   "metadata": {},
   "outputs": [],
   "source": [
    "nw=(Tf+Ts)/18+ff+dd"
   ]
  },
  {
   "cell_type": "code",
   "execution_count": 20,
   "metadata": {},
   "outputs": [
    {
     "data": {
      "text/plain": [
       "7.5522010671808175"
      ]
     },
     "execution_count": 20,
     "metadata": {},
     "output_type": "execute_result"
    }
   ],
   "source": [
    "nw"
   ]
  },
  {
   "cell_type": "code",
   "execution_count": null,
   "metadata": {},
   "outputs": [],
   "source": []
  },
  {
   "cell_type": "code",
   "execution_count": null,
   "metadata": {},
   "outputs": [],
   "source": []
  },
  {
   "cell_type": "markdown",
   "metadata": {},
   "source": [
    "# Test the example on paper : false"
   ]
  },
  {
   "cell_type": "markdown",
   "metadata": {},
   "source": [
    "# 從example 反推"
   ]
  },
  {
   "cell_type": "code",
   "execution_count": 21,
   "metadata": {},
   "outputs": [
    {
     "data": {
      "text/plain": [
       "(29.9954226, 5.00147342, 50.0022373, 0.000110231422)"
      ]
     },
     "execution_count": 21,
     "metadata": {},
     "output_type": "execute_result"
    }
   ],
   "source": [
    "3.01212489e+00,  3.56561532e+01,  3.30920827e+00,  3.91819450e+01,\n",
    "        3.52326676e+00,  4.17186771e+01,  7.94560496e+00,  4.57734117e+01,\n",
    "        1.67355674e+01,  4.57543071e+01,  1.98029311e+01,  4.57272879e+01,\n",
    "        3.52758014e+01,  4.57143819e+01,  4.12665974e+01,  4.56959905e+01,\n",
    "        4.12971457e+01,  4.56960978e+01,  4.46813822e+01,  4.07423230e+01,\n",
    "        4.46802262e+01,  4.07413571e+01,  4.26698000e+01,  3.55704019e+01,\n",
    "        3.32155928e+01,  1.12653592e+01,  3.22502546e+01,  7.42156627e+00,\n",
    "        3.28617300e+01,  1.03553838e+01,  3.99926468e+01,  1.47678816e+00"
   ]
  },
  {
   "cell_type": "code",
   "execution_count": 76,
   "metadata": {},
   "outputs": [],
   "source": [
    "t1= [3.01212489e+00,  3.56561532e+01] \n",
    "t2= [3.52326676e+00,  4.17186771e+01]\n",
    "t3 =[1.67355674e+01,  4.57543071e+01] \n",
    "t4 =[3.52758014e+01,  4.57143819e+01] \n",
    "t5= [4.12971457e+01,  4.56960978e+01] \n",
    "t6= [4.46802262e+01,  4.07413571e+01]\n",
    "t7= [3.32155928e+01,  1.12653592e+01] \n",
    "t8= [ 3.28617300e+01,  1.03553838e+01] "
   ]
  },
  {
   "cell_type": "code",
   "execution_count": null,
   "metadata": {},
   "outputs": [],
   "source": []
  },
  {
   "cell_type": "code",
   "execution_count": 77,
   "metadata": {},
   "outputs": [],
   "source": [
    "l1=[ 3.30920827e+00,  3.91819450e+01]\n",
    "l2= [ 7.94560496e+00,  4.57734117e+01]\n",
    "l3= [ 1.98029311e+01,  4.57272879e+01]\n",
    "l4= [4.12665974e+01,  4.56959905e+01]\n",
    "l5=[4.46813822e+01,  4.07423230e+01]\n",
    "l6=[4.26698000e+01,  3.55704019e+01]\n",
    "l7=[3.22502546e+01,  7.42156627e+00]\n",
    "l8= [3.99926468e+01,  1.47678816e+00]"
   ]
  },
  {
   "cell_type": "code",
   "execution_count": 82,
   "metadata": {},
   "outputs": [],
   "source": [
    "Ts=distance(qs[0],qs[1] ,t1[0],  t1[1])/18"
   ]
  },
  {
   "cell_type": "code",
   "execution_count": 83,
   "metadata": {},
   "outputs": [],
   "source": [
    "Tf=distance(qf[0],qf[1] ,l8[0],  l8[1])/18"
   ]
  },
  {
   "cell_type": "code",
   "execution_count": 80,
   "metadata": {},
   "outputs": [],
   "source": [
    "f_ex= (distance(q[1][0],q[1][1] ,t1[0],  t1[1])+distance(q[1][0],q[1][1] ,l1[0],  l1[1])+\n",
    "     distance(q[2][0],q[2][1] ,t2[0],  t2[1])+distance(q[2][0],q[2][1] ,l2[0],  l2[1]) +\n",
    "    distance(q[3][0],q[3][1] ,t3[0],  t3[1])+distance(q[3][0],q[3][1] ,l3[0],  l3[1]) +\n",
    "    distance(q[4][0],q[4][1] ,t4[0],  t4[1])+distance(q[4][0],q[4][1] ,l4[0],  l4[1])+\n",
    "    distance(q[5][0],q[5][1] ,t5[0],  t5[1])+distance(q[5][0],q[5][1] ,l5[0],  l5[1])+\n",
    "    distance(q[6][0],q[6][1] ,t6[0],  t6[1])+distance(q[6][0],q[6][1] ,l6[0],  l6[1])+\n",
    "    distance(q[7][0],q[7][1] ,t7[0],  t7[1])+distance(q[7][0],q[7][1] ,l7[0],  l7[1])+\n",
    "    distance(q[8][0],q[8][1] ,t8[0],  t8[1])+distance(q[8][0],q[8][1] ,l8[0],  l8[1]))/54"
   ]
  },
  {
   "cell_type": "code",
   "execution_count": 81,
   "metadata": {},
   "outputs": [],
   "source": [
    "d_ex= (\n",
    "     distance(l1[0],l1[1] ,t2[0],  t2[1])+\n",
    "    distance(t3[0],  t3[1] ,l2[0],  l2[1]) +\n",
    "    distance(t4[0],  t4[1] ,l3[0],  l3[1]) -\n",
    "    distance(t5[0],  t5[1] ,l4[0],  l4[1])+\n",
    "    distance(t6[0],  t6[1] ,l5[0],  l5[1])-\n",
    "    distance(t7[0],  t7[1] ,l6[0],  l6[1])+\n",
    "    distance(t8[0],  t8[1] ,l7[0],  l7[1])\n",
    ")/18"
   ]
  },
  {
   "cell_type": "code",
   "execution_count": 84,
   "metadata": {},
   "outputs": [
    {
     "data": {
      "text/plain": [
       "0.20540954811766535"
      ]
     },
     "execution_count": 84,
     "metadata": {},
     "output_type": "execute_result"
    }
   ],
   "source": [
    "d_ex"
   ]
  },
  {
   "cell_type": "code",
   "execution_count": 85,
   "metadata": {},
   "outputs": [
    {
     "data": {
      "text/plain": [
       "4.797444789128168"
      ]
     },
     "execution_count": 85,
     "metadata": {},
     "output_type": "execute_result"
    }
   ],
   "source": [
    "Ts+Tf+f_ex+d_ex"
   ]
  },
  {
   "cell_type": "markdown",
   "metadata": {},
   "source": [
    "# 例子最佳解＝7.352429336133469"
   ]
  },
  {
   "cell_type": "code",
   "execution_count": null,
   "metadata": {},
   "outputs": [],
   "source": []
  },
  {
   "cell_type": "markdown",
   "metadata": {},
   "source": [
    "# paper上的例子檢驗：f (should<0.3333)"
   ]
  },
  {
   "cell_type": "code",
   "execution_count": 86,
   "metadata": {},
   "outputs": [
    {
     "data": {
      "text/plain": [
       "0.16101542290890342"
      ]
     },
     "execution_count": 86,
     "metadata": {},
     "output_type": "execute_result"
    }
   ],
   "source": [
    "(distance(q[1][0],q[1][1] ,t1[0],  t1[1])+distance(q[1][0],q[1][1] ,l1[0],  l1[1]))/54"
   ]
  },
  {
   "cell_type": "code",
   "execution_count": 87,
   "metadata": {},
   "outputs": [
    {
     "data": {
      "text/plain": [
       "0.3333234612330849"
      ]
     },
     "execution_count": 87,
     "metadata": {},
     "output_type": "execute_result"
    }
   ],
   "source": [
    "(distance(q[2][0],q[2][1] ,t2[0],  t2[1])+distance(q[2][0],q[2][1] ,l2[0],  l2[1]))/54"
   ]
  },
  {
   "cell_type": "code",
   "execution_count": 88,
   "metadata": {},
   "outputs": [
    {
     "data": {
      "text/plain": [
       "0.07599929571823026"
      ]
     },
     "execution_count": 88,
     "metadata": {},
     "output_type": "execute_result"
    }
   ],
   "source": [
    "(distance(q[3][0],q[3][1] ,t3[0],  t3[1])+distance(q[3][0],q[3][1] ,l3[0],  l3[1]))/54"
   ]
  },
  {
   "cell_type": "code",
   "execution_count": 89,
   "metadata": {},
   "outputs": [
    {
     "data": {
      "text/plain": [
       "0.33234133421906203"
      ]
     },
     "execution_count": 89,
     "metadata": {},
     "output_type": "execute_result"
    }
   ],
   "source": [
    "(distance(q[4][0],q[4][1] ,t4[0],  t4[1])+distance(q[4][0],q[4][1] ,l4[0],  l4[1]))/54"
   ]
  },
  {
   "cell_type": "code",
   "execution_count": 90,
   "metadata": {},
   "outputs": [
    {
     "data": {
      "text/plain": [
       "0.33334279577322845"
      ]
     },
     "execution_count": 90,
     "metadata": {},
     "output_type": "execute_result"
    }
   ],
   "source": [
    "(distance(q[5][0],q[5][1] ,t5[0],  t5[1])+distance(q[5][0],q[5][1] ,l5[0],  l5[1]))/54"
   ]
  },
  {
   "cell_type": "code",
   "execution_count": 91,
   "metadata": {},
   "outputs": [
    {
     "data": {
      "text/plain": [
       "0.2811007237524667"
      ]
     },
     "execution_count": 91,
     "metadata": {},
     "output_type": "execute_result"
    }
   ],
   "source": [
    "(distance(q[6][0],q[6][1] ,t6[0],  t6[1])+distance(q[6][0],q[6][1] ,l6[0],  l6[1]))/54"
   ]
  },
  {
   "cell_type": "code",
   "execution_count": 92,
   "metadata": {},
   "outputs": [
    {
     "data": {
      "text/plain": [
       "0.19163058095828966"
      ]
     },
     "execution_count": 92,
     "metadata": {},
     "output_type": "execute_result"
    }
   ],
   "source": [
    "(distance(q[7][0],q[7][1] ,t7[0],  t7[1])+distance(q[7][0],q[7][1] ,l7[0],  l7[1]))/54"
   ]
  },
  {
   "cell_type": "code",
   "execution_count": 93,
   "metadata": {},
   "outputs": [
    {
     "data": {
      "text/plain": [
       "18.000549712071237"
      ]
     },
     "execution_count": 93,
     "metadata": {},
     "output_type": "execute_result"
    }
   ],
   "source": [
    "distance(q[8][0],q[8][1] ,t8[0],  t8[1])+distance(q[8][0],q[8][1] ,l8[0],  l8[1])"
   ]
  },
  {
   "cell_type": "code",
   "execution_count": 38,
   "metadata": {},
   "outputs": [
    {
     "data": {
      "text/plain": [
       "(0, 50)"
      ]
     },
     "execution_count": 38,
     "metadata": {},
     "output_type": "execute_result"
    }
   ],
   "source": [
    "q[2]"
   ]
  },
  {
   "cell_type": "code",
   "execution_count": 39,
   "metadata": {},
   "outputs": [
    {
     "data": {
      "text/plain": [
       "[3.04138247, 34.3378388]"
      ]
     },
     "execution_count": 39,
     "metadata": {},
     "output_type": "execute_result"
    }
   ],
   "source": [
    "t2"
   ]
  },
  {
   "cell_type": "code",
   "execution_count": null,
   "metadata": {},
   "outputs": [],
   "source": []
  },
  {
   "cell_type": "code",
   "execution_count": null,
   "metadata": {},
   "outputs": [],
   "source": []
  },
  {
   "cell_type": "code",
   "execution_count": null,
   "metadata": {},
   "outputs": [],
   "source": []
  },
  {
   "cell_type": "code",
   "execution_count": 40,
   "metadata": {},
   "outputs": [],
   "source": [
    "#m.computeIIS()"
   ]
  },
  {
   "cell_type": "code",
   "execution_count": null,
   "metadata": {},
   "outputs": [],
   "source": []
  },
  {
   "cell_type": "markdown",
   "metadata": {
    "scrolled": true
   },
   "source": [
    "status = m.status\n",
    "if status == GRB.Status.OPTIMAL:\n",
    "    for v in m.getVars():\n",
    "        print('%s %g' % (v.varName, v.x))\n",
    "    print('Obj: %g' % m.objVal)\n",
    "       \n",
    "elif status == GRB.Status.INFEASIBLE:\n",
    "    print('Optimization was stopped with status %d' % status)\n",
    "    # do IIS\n",
    "    m.computeIIS()\n",
    "    for c in m.getConstrs():\n",
    "        if c.IISConstr:\n",
    "            print('%s' % c.constrName)"
   ]
  },
  {
   "cell_type": "code",
   "execution_count": null,
   "metadata": {},
   "outputs": [],
   "source": []
  },
  {
   "cell_type": "code",
   "execution_count": 41,
   "metadata": {},
   "outputs": [
    {
     "data": {
      "text/plain": [
       "{1: <gurobi.Var g[1] (value 1.0)>,\n",
       " 2: <gurobi.Var g[2] (value 1.0)>,\n",
       " 3: <gurobi.Var g[3] (value 1.0)>,\n",
       " 4: <gurobi.Var g[4] (value 1.0)>,\n",
       " 5: <gurobi.Var g[5] (value -0.0)>,\n",
       " 6: <gurobi.Var g[6] (value 1.0)>,\n",
       " 7: <gurobi.Var g[7] (value -0.0)>}"
      ]
     },
     "execution_count": 41,
     "metadata": {},
     "output_type": "execute_result"
    }
   ],
   "source": [
    "g"
   ]
  },
  {
   "cell_type": "code",
   "execution_count": 42,
   "metadata": {},
   "outputs": [
    {
     "ename": "TypeError",
     "evalue": "distance() missing 2 required positional arguments: 'lx' and 'ly'",
     "output_type": "error",
     "traceback": [
      "\u001b[0;31m---------------------------------------------------------------------------\u001b[0m",
      "\u001b[0;31mTypeError\u001b[0m                                 Traceback (most recent call last)",
      "\u001b[0;32m<ipython-input-42-f2748457b583>\u001b[0m in \u001b[0;36m<module>\u001b[0;34m\u001b[0m\n\u001b[0;32m----> 1\u001b[0;31m \u001b[0mdistance\u001b[0m\u001b[0;34m(\u001b[0m\u001b[0;34m(\u001b[0m\u001b[0;36m3.0121253297926383\u001b[0m \u001b[0;34m,\u001b[0m  \u001b[0;36m35.66374454163622\u001b[0m\u001b[0;34m)\u001b[0m\u001b[0;34m,\u001b[0m \u001b[0;34m(\u001b[0m\u001b[0;36m3.309208259658977\u001b[0m \u001b[0;34m,\u001b[0m  \u001b[0;36m39.18085205605943\u001b[0m\u001b[0;34m)\u001b[0m\u001b[0;34m)\u001b[0m\u001b[0;34m\u001b[0m\u001b[0;34m\u001b[0m\u001b[0m\n\u001b[0m",
      "\u001b[0;31mTypeError\u001b[0m: distance() missing 2 required positional arguments: 'lx' and 'ly'"
     ]
    }
   ],
   "source": [
    "distance((3.0121253297926383 ,  35.66374454163622), (3.309208259658977 ,  39.18085205605943))"
   ]
  },
  {
   "cell_type": "code",
   "execution_count": null,
   "metadata": {},
   "outputs": [],
   "source": [
    "<Vc*s[1].X"
   ]
  },
  {
   "cell_type": "code",
   "execution_count": null,
   "metadata": {},
   "outputs": [],
   "source": [
    "s[1].X"
   ]
  },
  {
   "cell_type": "code",
   "execution_count": null,
   "metadata": {},
   "outputs": [],
   "source": [
    "0.035185882703834465*18"
   ]
  },
  {
   "cell_type": "code",
   "execution_count": null,
   "metadata": {},
   "outputs": [],
   "source": [
    "3.0121253297926383 ,  35.66374454163622,  3.309208259658977 ,  39.18085205605943"
   ]
  },
  {
   "cell_type": "code",
   "execution_count": 46,
   "metadata": {},
   "outputs": [
    {
     "data": {
      "text/plain": [
       "{1: <gurobi.Var g[1] (value 1.0)>,\n",
       " 2: <gurobi.Var g[2] (value 1.0)>,\n",
       " 3: <gurobi.Var g[3] (value 1.0)>,\n",
       " 4: <gurobi.Var g[4] (value 1.0)>,\n",
       " 5: <gurobi.Var g[5] (value -0.0)>,\n",
       " 6: <gurobi.Var g[6] (value 1.0)>,\n",
       " 7: <gurobi.Var g[7] (value -0.0)>}"
      ]
     },
     "execution_count": 46,
     "metadata": {},
     "output_type": "execute_result"
    }
   ],
   "source": [
    "g"
   ]
  },
  {
   "cell_type": "code",
   "execution_count": 44,
   "metadata": {},
   "outputs": [
    {
     "data": {
      "text/plain": [
       "{1: <gurobi.Var s[1] (value 0.1960906793489281)>,\n",
       " 2: <gurobi.Var s[2] (value 0.33333333272554433)>,\n",
       " 3: <gurobi.Var s[3] (value 0.17073290516667713)>,\n",
       " 4: <gurobi.Var s[4] (value 0.33227577827543586)>,\n",
       " 5: <gurobi.Var s[5] (value 0.3332092813471227)>,\n",
       " 6: <gurobi.Var s[6] (value 0.3081356654087086)>,\n",
       " 7: <gurobi.Var s[7] (value 0.05424553952160387)>,\n",
       " 8: <gurobi.Var s[8] (value 0.1036401628393821)>}"
      ]
     },
     "execution_count": 44,
     "metadata": {},
     "output_type": "execute_result"
    }
   ],
   "source": [
    "s"
   ]
  },
  {
   "cell_type": "code",
   "execution_count": null,
   "metadata": {},
   "outputs": [],
   "source": []
  },
  {
   "cell_type": "code",
   "execution_count": 51,
   "metadata": {},
   "outputs": [],
   "source": [
    "s_=[]\n",
    "s_.append(f[1].X-(1-g[1].X)*d[1].X)\n",
    "for i in range(2,n):\n",
    "    s_.append(f[i].X -(1-g[i-1].X)*d[i-1].X -(1-g[i].X)*d[i].X)\n",
    "    \n",
    "s_.append(f[n].X-(1-g[n-1].X)*d[n-1].X)  \n",
    "    "
   ]
  },
  {
   "cell_type": "code",
   "execution_count": 52,
   "metadata": {},
   "outputs": [
    {
     "data": {
      "text/plain": [
       "[0.1960906793489281,\n",
       " 0.33333333272554433,\n",
       " 0.17073290516667713,\n",
       " 0.33227577827543586,\n",
       " 0.33320928522379767,\n",
       " 0.30813566540862936,\n",
       " 0.0542455405338009,\n",
       " 0.10364016283936936]"
      ]
     },
     "execution_count": 52,
     "metadata": {},
     "output_type": "execute_result"
    }
   ],
   "source": [
    "s_"
   ]
  },
  {
   "cell_type": "code",
   "execution_count": 69,
   "metadata": {},
   "outputs": [],
   "source": [
    "f_left=[]\n",
    "#C5\n",
    "    \n",
    "    \n",
    "for i in range(1,n+1):\n",
    "    f_left.append((1/Vh)*(distance(q[i][0], q[i][1],tx[i].X,ty[i].X)\n",
    "                         + distance(q[i][0], q[i][1], lx[i].X, ly[i].X ) \n",
    "                        )\n",
    "                )\n",
    "        "
   ]
  },
  {
   "cell_type": "code",
   "execution_count": 71,
   "metadata": {},
   "outputs": [
    {
     "data": {
      "text/plain": [
       "[0.16090479664509363,\n",
       " 0.3333333314253812,\n",
       " 0.07631765269680645,\n",
       " 0.3317996698766063,\n",
       " 0.3333333318323165,\n",
       " 0.2810871213254016,\n",
       " 0.2277959917083334,\n",
       " 0.33333333200123394]"
      ]
     },
     "execution_count": 71,
     "metadata": {},
     "output_type": "execute_result"
    }
   ],
   "source": [
    "f_left"
   ]
  },
  {
   "cell_type": "code",
   "execution_count": 73,
   "metadata": {},
   "outputs": [],
   "source": [
    "for i in range(1,9):\n",
    "    f_[i-1]=f[i].X-f_left[i-1]"
   ]
  },
  {
   "cell_type": "code",
   "execution_count": 62,
   "metadata": {},
   "outputs": [
    {
     "data": {
      "text/plain": [
       "{1: <gurobi.Var f[1] (value 0.1960906793489281)>,\n",
       " 2: <gurobi.Var f[2] (value 0.33333333272554433)>,\n",
       " 3: <gurobi.Var f[3] (value 0.17073290516667713)>,\n",
       " 4: <gurobi.Var f[4] (value 0.33227577827543586)>,\n",
       " 5: <gurobi.Var f[5] (value 0.3333333328186347)>,\n",
       " 6: <gurobi.Var f[6] (value 0.3082597130034664)>,\n",
       " 7: <gurobi.Var f[7] (value 0.2839387105215752)>,\n",
       " 8: <gurobi.Var f[8] (value 0.33333333282714367)>}"
      ]
     },
     "execution_count": 62,
     "metadata": {},
     "output_type": "execute_result"
    }
   ],
   "source": [
    "f"
   ]
  },
  {
   "cell_type": "code",
   "execution_count": 56,
   "metadata": {},
   "outputs": [
    {
     "data": {
      "text/plain": [
       "1.0"
      ]
     },
     "execution_count": 56,
     "metadata": {},
     "output_type": "execute_result"
    }
   ],
   "source": [
    "distance(2,3,2,4)"
   ]
  },
  {
   "cell_type": "code",
   "execution_count": 75,
   "metadata": {},
   "outputs": [
    {
     "data": {
      "text/plain": [
       "[0.035185882703834465,\n",
       " 1.3001631438136485e-09,\n",
       " 0.09441525246987069,\n",
       " 0.0004761083988295556,\n",
       " 9.863181937852517e-10,\n",
       " 0.027172591678064795,\n",
       " 0.056142718813241815,\n",
       " 8.259097294960327e-10]"
      ]
     },
     "execution_count": 75,
     "metadata": {},
     "output_type": "execute_result"
    }
   ],
   "source": [
    "f_"
   ]
  },
  {
   "cell_type": "code",
   "execution_count": 74,
   "metadata": {},
   "outputs": [
    {
     "data": {
      "text/plain": [
       "[0.16090479664509363,\n",
       " 0.3333333314253812,\n",
       " 0.07631765269680645,\n",
       " 0.3317996698766063,\n",
       " 0.3333333318323165,\n",
       " 0.2810871213254016,\n",
       " 0.2277959917083334,\n",
       " 0.33333333200123394]"
      ]
     },
     "execution_count": 74,
     "metadata": {},
     "output_type": "execute_result"
    }
   ],
   "source": [
    "f_left"
   ]
  },
  {
   "cell_type": "code",
   "execution_count": null,
   "metadata": {},
   "outputs": [],
   "source": [
    "#推出來的f比model 小"
   ]
  }
 ],
 "metadata": {
  "kernelspec": {
   "display_name": "Python 3",
   "language": "python",
   "name": "python3"
  },
  "language_info": {
   "codemirror_mode": {
    "name": "ipython",
    "version": 3
   },
   "file_extension": ".py",
   "mimetype": "text/x-python",
   "name": "python",
   "nbconvert_exporter": "python",
   "pygments_lexer": "ipython3",
   "version": "3.6.7"
  }
 },
 "nbformat": 4,
 "nbformat_minor": 2
}
